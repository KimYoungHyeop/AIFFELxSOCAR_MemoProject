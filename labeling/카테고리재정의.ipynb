{
  "nbformat": 4,
  "nbformat_minor": 0,
  "metadata": {
    "colab": {
      "name": "카테고리재정의.ipynb",
      "provenance": [],
      "collapsed_sections": []
    },
    "kernelspec": {
      "display_name": "Python 3",
      "name": "python3"
    },
    "language_info": {
      "name": "python"
    }
  },
  "cells": [
    {
      "cell_type": "markdown",
      "metadata": {
        "id": "ERJy_sdzQEJp"
      },
      "source": [
        "# 전처리 및 라벨 추출\n"
      ]
    },
    {
      "cell_type": "markdown",
      "metadata": {
        "id": "LI6znrOoSap0"
      },
      "source": [
        "## Load data"
      ]
    },
    {
      "cell_type": "code",
      "metadata": {
        "colab": {
          "base_uri": "https://localhost:8080/"
        },
        "id": "w6pYObTYS0sY",
        "outputId": "0776768b-fae3-4085-df3f-d1eca3664979"
      },
      "source": [
        "from google.colab import drive\n",
        "drive.mount('/content/drive')"
      ],
      "execution_count": 1,
      "outputs": [
        {
          "output_type": "stream",
          "name": "stdout",
          "text": [
            "Mounted at /content/drive\n"
          ]
        }
      ]
    },
    {
      "cell_type": "code",
      "metadata": {
        "id": "Kve0-AAZSTt9"
      },
      "source": [
        "PATH = '/content/drive/MyDrive/정비메모분석/data'"
      ],
      "execution_count": 2,
      "outputs": []
    },
    {
      "cell_type": "code",
      "metadata": {
        "id": "JcgHsuGePpnx"
      },
      "source": [
        "import pandas as pd\n",
        "import numpy as np\n",
        "import matplotlib.pyplot as plt\n",
        "import os"
      ],
      "execution_count": 3,
      "outputs": []
    },
    {
      "cell_type": "code",
      "metadata": {
        "colab": {
          "base_uri": "https://localhost:8080/"
        },
        "id": "w5ZnofKsqDXo",
        "outputId": "5afa2373-851b-4adf-aa8e-993b5acedb82"
      },
      "source": [
        "pip install sentencepiece"
      ],
      "execution_count": 4,
      "outputs": [
        {
          "output_type": "stream",
          "name": "stdout",
          "text": [
            "Collecting sentencepiece\n",
            "  Downloading sentencepiece-0.1.96-cp37-cp37m-manylinux_2_17_x86_64.manylinux2014_x86_64.whl (1.2 MB)\n",
            "\u001b[?25l\r\u001b[K     |▎                               | 10 kB 19.4 MB/s eta 0:00:01\r\u001b[K     |▌                               | 20 kB 25.9 MB/s eta 0:00:01\r\u001b[K     |▉                               | 30 kB 19.6 MB/s eta 0:00:01\r\u001b[K     |█                               | 40 kB 16.8 MB/s eta 0:00:01\r\u001b[K     |█▍                              | 51 kB 6.6 MB/s eta 0:00:01\r\u001b[K     |█▋                              | 61 kB 7.7 MB/s eta 0:00:01\r\u001b[K     |██                              | 71 kB 7.9 MB/s eta 0:00:01\r\u001b[K     |██▏                             | 81 kB 8.8 MB/s eta 0:00:01\r\u001b[K     |██▍                             | 92 kB 9.4 MB/s eta 0:00:01\r\u001b[K     |██▊                             | 102 kB 6.8 MB/s eta 0:00:01\r\u001b[K     |███                             | 112 kB 6.8 MB/s eta 0:00:01\r\u001b[K     |███▎                            | 122 kB 6.8 MB/s eta 0:00:01\r\u001b[K     |███▌                            | 133 kB 6.8 MB/s eta 0:00:01\r\u001b[K     |███▉                            | 143 kB 6.8 MB/s eta 0:00:01\r\u001b[K     |████                            | 153 kB 6.8 MB/s eta 0:00:01\r\u001b[K     |████▎                           | 163 kB 6.8 MB/s eta 0:00:01\r\u001b[K     |████▋                           | 174 kB 6.8 MB/s eta 0:00:01\r\u001b[K     |████▉                           | 184 kB 6.8 MB/s eta 0:00:01\r\u001b[K     |█████▏                          | 194 kB 6.8 MB/s eta 0:00:01\r\u001b[K     |█████▍                          | 204 kB 6.8 MB/s eta 0:00:01\r\u001b[K     |█████▊                          | 215 kB 6.8 MB/s eta 0:00:01\r\u001b[K     |██████                          | 225 kB 6.8 MB/s eta 0:00:01\r\u001b[K     |██████▏                         | 235 kB 6.8 MB/s eta 0:00:01\r\u001b[K     |██████▌                         | 245 kB 6.8 MB/s eta 0:00:01\r\u001b[K     |██████▊                         | 256 kB 6.8 MB/s eta 0:00:01\r\u001b[K     |███████                         | 266 kB 6.8 MB/s eta 0:00:01\r\u001b[K     |███████▎                        | 276 kB 6.8 MB/s eta 0:00:01\r\u001b[K     |███████▋                        | 286 kB 6.8 MB/s eta 0:00:01\r\u001b[K     |███████▉                        | 296 kB 6.8 MB/s eta 0:00:01\r\u001b[K     |████████                        | 307 kB 6.8 MB/s eta 0:00:01\r\u001b[K     |████████▍                       | 317 kB 6.8 MB/s eta 0:00:01\r\u001b[K     |████████▋                       | 327 kB 6.8 MB/s eta 0:00:01\r\u001b[K     |█████████                       | 337 kB 6.8 MB/s eta 0:00:01\r\u001b[K     |█████████▏                      | 348 kB 6.8 MB/s eta 0:00:01\r\u001b[K     |█████████▌                      | 358 kB 6.8 MB/s eta 0:00:01\r\u001b[K     |█████████▊                      | 368 kB 6.8 MB/s eta 0:00:01\r\u001b[K     |██████████                      | 378 kB 6.8 MB/s eta 0:00:01\r\u001b[K     |██████████▎                     | 389 kB 6.8 MB/s eta 0:00:01\r\u001b[K     |██████████▌                     | 399 kB 6.8 MB/s eta 0:00:01\r\u001b[K     |██████████▉                     | 409 kB 6.8 MB/s eta 0:00:01\r\u001b[K     |███████████                     | 419 kB 6.8 MB/s eta 0:00:01\r\u001b[K     |███████████▍                    | 430 kB 6.8 MB/s eta 0:00:01\r\u001b[K     |███████████▋                    | 440 kB 6.8 MB/s eta 0:00:01\r\u001b[K     |███████████▉                    | 450 kB 6.8 MB/s eta 0:00:01\r\u001b[K     |████████████▏                   | 460 kB 6.8 MB/s eta 0:00:01\r\u001b[K     |████████████▍                   | 471 kB 6.8 MB/s eta 0:00:01\r\u001b[K     |████████████▊                   | 481 kB 6.8 MB/s eta 0:00:01\r\u001b[K     |█████████████                   | 491 kB 6.8 MB/s eta 0:00:01\r\u001b[K     |█████████████▎                  | 501 kB 6.8 MB/s eta 0:00:01\r\u001b[K     |█████████████▌                  | 512 kB 6.8 MB/s eta 0:00:01\r\u001b[K     |█████████████▊                  | 522 kB 6.8 MB/s eta 0:00:01\r\u001b[K     |██████████████                  | 532 kB 6.8 MB/s eta 0:00:01\r\u001b[K     |██████████████▎                 | 542 kB 6.8 MB/s eta 0:00:01\r\u001b[K     |██████████████▋                 | 552 kB 6.8 MB/s eta 0:00:01\r\u001b[K     |██████████████▉                 | 563 kB 6.8 MB/s eta 0:00:01\r\u001b[K     |███████████████▏                | 573 kB 6.8 MB/s eta 0:00:01\r\u001b[K     |███████████████▍                | 583 kB 6.8 MB/s eta 0:00:01\r\u001b[K     |███████████████▋                | 593 kB 6.8 MB/s eta 0:00:01\r\u001b[K     |████████████████                | 604 kB 6.8 MB/s eta 0:00:01\r\u001b[K     |████████████████▏               | 614 kB 6.8 MB/s eta 0:00:01\r\u001b[K     |████████████████▌               | 624 kB 6.8 MB/s eta 0:00:01\r\u001b[K     |████████████████▊               | 634 kB 6.8 MB/s eta 0:00:01\r\u001b[K     |█████████████████               | 645 kB 6.8 MB/s eta 0:00:01\r\u001b[K     |█████████████████▎              | 655 kB 6.8 MB/s eta 0:00:01\r\u001b[K     |█████████████████▌              | 665 kB 6.8 MB/s eta 0:00:01\r\u001b[K     |█████████████████▉              | 675 kB 6.8 MB/s eta 0:00:01\r\u001b[K     |██████████████████              | 686 kB 6.8 MB/s eta 0:00:01\r\u001b[K     |██████████████████▍             | 696 kB 6.8 MB/s eta 0:00:01\r\u001b[K     |██████████████████▋             | 706 kB 6.8 MB/s eta 0:00:01\r\u001b[K     |███████████████████             | 716 kB 6.8 MB/s eta 0:00:01\r\u001b[K     |███████████████████▏            | 727 kB 6.8 MB/s eta 0:00:01\r\u001b[K     |███████████████████▍            | 737 kB 6.8 MB/s eta 0:00:01\r\u001b[K     |███████████████████▊            | 747 kB 6.8 MB/s eta 0:00:01\r\u001b[K     |████████████████████            | 757 kB 6.8 MB/s eta 0:00:01\r\u001b[K     |████████████████████▎           | 768 kB 6.8 MB/s eta 0:00:01\r\u001b[K     |████████████████████▌           | 778 kB 6.8 MB/s eta 0:00:01\r\u001b[K     |████████████████████▉           | 788 kB 6.8 MB/s eta 0:00:01\r\u001b[K     |█████████████████████           | 798 kB 6.8 MB/s eta 0:00:01\r\u001b[K     |█████████████████████▎          | 808 kB 6.8 MB/s eta 0:00:01\r\u001b[K     |█████████████████████▋          | 819 kB 6.8 MB/s eta 0:00:01\r\u001b[K     |█████████████████████▉          | 829 kB 6.8 MB/s eta 0:00:01\r\u001b[K     |██████████████████████▏         | 839 kB 6.8 MB/s eta 0:00:01\r\u001b[K     |██████████████████████▍         | 849 kB 6.8 MB/s eta 0:00:01\r\u001b[K     |██████████████████████▊         | 860 kB 6.8 MB/s eta 0:00:01\r\u001b[K     |███████████████████████         | 870 kB 6.8 MB/s eta 0:00:01\r\u001b[K     |███████████████████████▏        | 880 kB 6.8 MB/s eta 0:00:01\r\u001b[K     |███████████████████████▌        | 890 kB 6.8 MB/s eta 0:00:01\r\u001b[K     |███████████████████████▊        | 901 kB 6.8 MB/s eta 0:00:01\r\u001b[K     |████████████████████████        | 911 kB 6.8 MB/s eta 0:00:01\r\u001b[K     |████████████████████████▎       | 921 kB 6.8 MB/s eta 0:00:01\r\u001b[K     |████████████████████████▋       | 931 kB 6.8 MB/s eta 0:00:01\r\u001b[K     |████████████████████████▉       | 942 kB 6.8 MB/s eta 0:00:01\r\u001b[K     |█████████████████████████       | 952 kB 6.8 MB/s eta 0:00:01\r\u001b[K     |█████████████████████████▍      | 962 kB 6.8 MB/s eta 0:00:01\r\u001b[K     |█████████████████████████▋      | 972 kB 6.8 MB/s eta 0:00:01\r\u001b[K     |██████████████████████████      | 983 kB 6.8 MB/s eta 0:00:01\r\u001b[K     |██████████████████████████▏     | 993 kB 6.8 MB/s eta 0:00:01\r\u001b[K     |██████████████████████████▌     | 1.0 MB 6.8 MB/s eta 0:00:01\r\u001b[K     |██████████████████████████▊     | 1.0 MB 6.8 MB/s eta 0:00:01\r\u001b[K     |███████████████████████████     | 1.0 MB 6.8 MB/s eta 0:00:01\r\u001b[K     |███████████████████████████▎    | 1.0 MB 6.8 MB/s eta 0:00:01\r\u001b[K     |███████████████████████████▌    | 1.0 MB 6.8 MB/s eta 0:00:01\r\u001b[K     |███████████████████████████▉    | 1.1 MB 6.8 MB/s eta 0:00:01\r\u001b[K     |████████████████████████████    | 1.1 MB 6.8 MB/s eta 0:00:01\r\u001b[K     |████████████████████████████▍   | 1.1 MB 6.8 MB/s eta 0:00:01\r\u001b[K     |████████████████████████████▋   | 1.1 MB 6.8 MB/s eta 0:00:01\r\u001b[K     |████████████████████████████▉   | 1.1 MB 6.8 MB/s eta 0:00:01\r\u001b[K     |█████████████████████████████▏  | 1.1 MB 6.8 MB/s eta 0:00:01\r\u001b[K     |█████████████████████████████▍  | 1.1 MB 6.8 MB/s eta 0:00:01\r\u001b[K     |█████████████████████████████▊  | 1.1 MB 6.8 MB/s eta 0:00:01\r\u001b[K     |██████████████████████████████  | 1.1 MB 6.8 MB/s eta 0:00:01\r\u001b[K     |██████████████████████████████▎ | 1.1 MB 6.8 MB/s eta 0:00:01\r\u001b[K     |██████████████████████████████▌ | 1.2 MB 6.8 MB/s eta 0:00:01\r\u001b[K     |██████████████████████████████▊ | 1.2 MB 6.8 MB/s eta 0:00:01\r\u001b[K     |███████████████████████████████ | 1.2 MB 6.8 MB/s eta 0:00:01\r\u001b[K     |███████████████████████████████▎| 1.2 MB 6.8 MB/s eta 0:00:01\r\u001b[K     |███████████████████████████████▋| 1.2 MB 6.8 MB/s eta 0:00:01\r\u001b[K     |███████████████████████████████▉| 1.2 MB 6.8 MB/s eta 0:00:01\r\u001b[K     |████████████████████████████████| 1.2 MB 6.8 MB/s \n",
            "\u001b[?25hInstalling collected packages: sentencepiece\n",
            "Successfully installed sentencepiece-0.1.96\n"
          ]
        }
      ]
    },
    {
      "cell_type": "code",
      "metadata": {
        "id": "yOOTbQKHqH26"
      },
      "source": [
        "import sentencepiece as spm"
      ],
      "execution_count": 5,
      "outputs": []
    },
    {
      "cell_type": "code",
      "metadata": {
        "id": "fHEZWjh2TkE6"
      },
      "source": [
        "%load_ext google.colab.data_table"
      ],
      "execution_count": 6,
      "outputs": []
    },
    {
      "cell_type": "markdown",
      "metadata": {
        "id": "De9WGPtlUHl6"
      },
      "source": [
        "# Description 전처리"
      ]
    },
    {
      "cell_type": "code",
      "metadata": {
        "id": "7YdnbYfFbHYJ"
      },
      "source": [
        " def parentheses(s):\n",
        "    if s.count('(') == s.count(')'):\n",
        "        return s\n",
        "    \n",
        "    if s.count('(') > s.count(')'):\n",
        "        s += ')'\n",
        "    else:\n",
        "        for match in re.finditer('\\)', s):\n",
        "            end = match.end() - 1\n",
        "            if s[:end].count('(') <= s[:end].count(')'):\n",
        "                s = s[:end] + ' ' + s[end+1:]\n",
        "\n",
        "    return s"
      ],
      "execution_count": 7,
      "outputs": []
    },
    {
      "cell_type": "code",
      "metadata": {
        "id": "nWpwMJMoUU4A"
      },
      "source": [
        "def replace_entity_to_keyword(s): # dict는 defuatdict같이 초기값이 set으로 설정된 사전이라고 가정\n",
        "    s = s.upper()\n",
        "    s = re.sub(r'[\\[\\]\\?]', '', s)\n",
        "\n",
        "    s = re.sub(r'\\)-', ') -', s)\n",
        "\n",
        "    # 자동차 이름에 대한 전처리를 하려면 자동차이름(영어가 안 섞인) 데이터가 필요할 것 같다.\n",
        "    s = re.sub('(코나)|(아반떼)|(화성점)|(넥센+[가-힣])', '', s)\n",
        "    \n",
        "    s = re.sub(r'좌/우', '좌우', s)\n",
        "\n",
        "    center_name = r'(^|(?<=\\s))\\(주\\)\\w+|\\w+\\(주\\)($|(?=\\s))'  # 앞,뒤로 (주)가 붙은 단어\n",
        "    s = re.sub(center_name, '', s)\n",
        "\n",
        "    center_name = '|'.join(centers)  # 크롤링한 정비소 이름들\n",
        "    s = re.sub(center_name, '', s)\n",
        "\n",
        "    brand_name = r\"(티스테이션)|(현대블루핸즈)|(기아오토큐)|(애니카랜드)|(스피드메이트)|(하이카)|(하이카서비스)|(T스테이션)|(블루핸즈)\"  # 브랜드 정비소\n",
        "    s = re.sub(brand_name, '', s)\n",
        "\n",
        "    motors_name = r\"[가-힣a-zA-Z0-9]+모터스\"  # ~~ 모터스\n",
        "    s = re.sub(motors_name, '', s)\n",
        "\n",
        "    ts_name = r\"(\\b|(?<=[^a-zA-Z]))[tT]{1,2}[sS](?![a-zA-Z])\"  # TS, 단 STS제외\n",
        "    s = re.sub(ts_name, '', s)\n",
        "\n",
        "    sm_name = r\"(\\b|(?<=[^a-zA-Z]))[sS]\\/?[mM](?![a-zA-Z])\"  # s/m\n",
        "    s = re.sub(sm_name, '', s)\n",
        "\n",
        "    branch_name = r\"[가-힣a-zA-Z0-9]+(?<!백화|.접|.0)점(?!\\w)\"  # ~~점, 단 0점 접점 제외\n",
        "    s = re.sub(branch_name, '', s)\n",
        "\n",
        "    address_number = r'\\d{5,6}[ ]*-[ ]*\\d{3,5}[ ]*-[ ]*\\d{3, 5}(?!\\d)' # 등기번호\n",
        "    s = re.sub(address_number, '', s)\n",
        "\n",
        "\n",
        "    phone_number = r'(?<!\\d)\\d{2,3}[ ]*-[ ]*\\d{3,4}[ ]*-[ ]*\\d{4}(?!\\d)' # 전화번호\n",
        "    s = re.sub(phone_number, '',s)\n",
        "\n",
        "\n",
        "    #tire_part = r'(?<!\\d)[A-Z]?\\d{3}[ \\*\\t\\.\\/\\,\\-]+\\d{2,3}[ A-Z\\*\\t\\.\\/\\,\\-]+\\d+[ A-Z\\*\\t\\/\\,\\-]*\\d*[A-Z\\,]{0,2}\\d*[A-Z\\,]{0,2}\\d*' # 타이어 규격\n",
        "    #s = re.sub(tire_part, '',s)\n",
        "    s = re.sub(r'규격', '',s)\n",
        "    s = re.sub(r'되지', '',s)\n",
        "    #s = re.sub(r'IQ', '',s)\n",
        "    #s = re.sub(r'현대자동차', '',s)\n",
        "\n",
        "\n",
        "\n",
        "\n",
        "    date = r'(?<!\\d)(\\d{4}|\\d{2})[ \\/\\.\\-]+\\d{1,2}[ \\/\\.\\-]+\\d{1,2}(?!\\d)' # 날짜\n",
        "    s = re.sub(date, '',s)\n",
        "\n",
        "    date = r'(?<!\\d)\\d{1,2}[ \\/]+\\d{1,2}(?!\\d)' # 날짜\n",
        "    s = re.sub(date, '',s)\n",
        "\n",
        "    pattern = r'(이동서울정비)|(대성정비)|(동광정비)|(원스탑)|(종합정비)|(자동차종합정비)|(르노삼성자동차)|(기아시흥)|(비원카센타)|(가온오토)|(진주)|(무빙카서비스)|(원진엠엔에스)|(공업사)|(쉐보레)|(으로)|(벤츠)|(카랑)|(애니카)|(미쉐린)|(RH)'\n",
        "    s = re.sub(pattern, '',s)\n",
        "\n",
        "    distance_driven = r'\\d+\\,?\\d*(만|천|백|십)?[ \\t]*[kK][mM](?![a-zA-Z])' # 거리, todo: 속도가 들어올 경우\n",
        "    s = re.sub(distance_driven, '', s)\n",
        "\n",
        "    url = r'HTTP\\S+'\n",
        "    s = re.sub(url, '', s)\n",
        "\n",
        "    loc = r'(화성)|(남양주)|(금천)|(순천)|(창원)|(금호)|(당진)|(울산)|(고양)'\n",
        "    s = re.sub(loc, '', s)\n",
        "\n",
        "\n",
        "    service = r'[가-힣a-zA-Z0-9]+(서비스센터 |서비스센터$|서비스센터\\n|서비스센터->|서비스센터-)'  \n",
        "    s = re.sub(service, '', s)\n",
        "\n",
        "    service = r'[가-힣a-zA-Z0-9]*(?<!알림)(서비스)'  \n",
        "    s = re.sub(service, '', s)\n",
        "\n",
        "    service = r'서비스센터'  \n",
        "    s = re.sub(service, '', s)\n",
        "\n",
        "    result_x = r'(?<![a-zA-Z])X(?![0-9a-zA-Z])'\n",
        "    s = re.sub(url, '[result_x]', s)\n",
        "\n",
        "    car_id = r'\\d+[ \\t]*[가-힣][ \\t]*\\d+' # 자동차 id, todo: 실제 자동차번호판 규칙을 안다면 \\d{2,3}[가-힣]\\d{4}이런식으로 작성\n",
        "    s = re.sub(car_id, '', s)\n",
        "\n",
        "    liter = r'\\d*\\.?\\d+[lL](?![a-zA-Z])' # 용량 6l, 1.8L 등.\n",
        "    s = re.sub(liter, '', s)\n",
        "\n",
        "    s = re.sub(r'(\\s*[^가-힝A-Z\\)\\]]*\\s*$)|(^\\s*[^가-힝A-Z\\[\\(]*\\s*)', '', s)  # 양 끝 특수 문자 제거\n",
        "    s = re.sub(r'(?<!^)\".*\"(?!&)', '[text]', s)  # \"지우는 중...\" 같은 설명 문장 삭제\n",
        "    s = re.sub(r'(\\s*\\n[\\*ㅁ\\#])|(\\s*\\n[0-9]+\\.)', ' [SEP]', s)  # 새로운 문단[new_sub] 이라고 할 수 있지만, 너무 개수가 적다.\n",
        "    s = re.sub(r'(?<=\\w)\\s*\\.\\s+', '[SEP]', s) # 일반적인 마침표.\n",
        "    s = re.sub(r'\\s*\\nㄴ', ' [SEP]', s) # 줄내림이라고 할 수도 있지만, 이런 문장은 앞 문장에 종속적이나거나 추가 정보이다.\n",
        "    s = re.sub(r\"후에도\", '[SEP]',  s)\n",
        "    # todo: 시간(11월, 30분), 개수(2EA, 4개), 가격 등의 키워드화(필요한가?)\n",
        "    s = re.sub(r'\\d*\\,?\\.?\\d+', '', s)\n",
        "\n",
        "\n",
        "    # 영단어 처리 방법 \n",
        "    # 1. 각 (a/s, a.s, as), (r-cam, r cam) 등을 하나씩 다 찾아서 고유명사로 통일한다.\n",
        "    # 2. 일단 whitespace+특수문자 구분으로 각 단어 (a)(s)(r)(cam)을 토큰화 시키고 n-gram을 통해 고유명사를 찾는다.\n",
        "    # 3. 모든 영어를 제거하거나, [en]으로 단일 키워드화 시키고 신경쓰지 않는다.\n",
        "    # todo: 임시 조치(토큰나이저 사용시 고유명사로 등록, 토큰화 X)\n",
        "    #s = re.sub(r'(^|[^a-zA-Z])[aA][ \\t]?(필러|필라)', '[A필러]', s)\n",
        "    #s = re.sub(r'[aA]\\.?\\/?[sS]', '[as]', s)\n",
        "    #s = re.sub(r'(?<=[a-zA-Z])[\\.\\/]+(?=[a-zA-Z])', '/', s)\n",
        "    #en_token = r'(?<!(\\[|[a-zA-Z]))[a-zA-Z]+(?!(\\w*\\]))'\n",
        "    #s = extract_and_replace(s, en_token, 'en_token', keyword_dict)\n",
        "\n",
        "    # 나머지 특수문자와 줄내림 등 처리\n",
        "    s = parentheses(s)\n",
        "    #s = re.sub(r'\\.', ' ', s)\n",
        "    s = re.sub(r'[\\=\\-]*\\>', ' > ', s)\n",
        "    s = re.sub(r'\\=', ' ', s)\n",
        "    s = re.sub(r'[\\!\\\"\\%\\※\\.]', ' ', s)\n",
        "    s = re.sub(r'(?<![a-z])_', ' ', s)\n",
        "    s = re.sub(r'\\#', ' [SEP]', s)\n",
        "    s = re.sub(r'[ㄱ-ㅎ]', '', s) # todo: 오타를 먼저 처리하고 해야한다.(올바른 단어를 찾는 정보이다.)\n",
        "    s = re.sub(r'\\(\\s*\\)', '', s)\n",
        "    s = re.sub(r'\\s+\\Z', '', s)\n",
        "    s = re.sub(r'\\n+\\s*', ' [SEP]', s) # 줄내림\n",
        "    s = re.sub(r'[\\,\\/]\\s*(?=(\\[line\\_))', ' ', s)\n",
        "    s = re.sub(r'A/S', 'AS', s)\n",
        "    s = re.sub(r'A./S', 'AS', s)\n",
        "    s = re.sub(r'/VFS', 'VFS', s)\n",
        "    s = re.sub(r'/', '[SEP]', s)\n",
        "    s = re.sub(r',', '[SEP]', s)\n",
        "    s = re.sub(r'&', '[SEP]', s)\n",
        "\n",
        "\n",
        "    # [SEP]\n",
        "    pattern = r'(해도)|(인하여)|(하여)|(인해)|(:)|(및)'\n",
        "    s = re.sub(pattern, '[SEP]', s)\n",
        "\n",
        "    s = re.sub('부탁드립니다', '요청',s)\n",
        "    s = re.sub('않습니다', '불가',s)\n",
        "    s = re.sub('됩니다', '가능', s)\n",
        "\n",
        "    s = re.sub(r'탁송회', '탁송', s)\n",
        "    s = re.sub(r'(않|없|있)[가-힣]+', '[SEP]', s)\n",
        "    \n",
        "    s = re.sub(r'교체', '교환', s)\n",
        "\n",
        "\n",
        "    pattern_3 = r'교환(?!\\w)'\n",
        "    s = re.sub(pattern_3, '교환 [SEP]' , s)\n",
        "\n",
        "\n",
        "    pattern_4 = r'(했습니다)|(합니다)|(드립니다)|(니다)|(하였습)'\n",
        "    s = re.sub(pattern_4, '[SEP]' , s)\n",
        "\n",
        "    s = re.sub(r'EA', '' , s)\n",
        "    s = re.sub(r'초기화후', '초기화 후' , s)\n",
        "\n",
        "\n",
        "\n",
        "    \n",
        "\n",
        "    # 모든 처리가 끝났다면\n",
        "    s = s = re.sub(r'\\s+', ' ', s)\n",
        "    return s\n",
        "\n",
        "\n",
        "def delete_lesion_id_to_description(row):\n",
        "    row['description'] = re.sub(str(row['lesion_id']), ' ', row['description'])\n",
        "    return row\n",
        "\n",
        "\n",
        "def delete_unnecessary_words(s):\n",
        "    s = re.sub(r'장애[ \\t]*(카드)?번호[0-9ㄱ-ㅎ가-힣]*[ \\n\\t:]*', ' ', s)\n",
        "    s = re.sub(r'장애[ \\t]*:', ' ', s)\n",
        "    s = re.sub(r'법인[ \\t]*카드[ \\t]*(결제건|사용)', ' ', s)\n",
        "    s = re.sub(r'\\(신규\\)', ' ', s)\n",
        "    s = re.sub(r'└.*', '', s)\n",
        "    s = re.sub(r'㈜', '', s)\n",
        "    s = re.sub(r'×자로', '', s)\n",
        "    s = re.sub(r'구\\)삼성.{0,4}카드', '주유카드', s)\n",
        "    s = re.sub(r'\\(?주\\)스피드총판', '스피드총판', s)\n",
        "    s = re.sub(r'가온오토\\)', '가온오토', s)\n",
        "    s = re.sub(r'미션오일보충\\)', '미션오일보충', s)\n",
        "    s = re.sub(r'\\s[a-zA-Z]\\d+\\.', ' ', s)\n",
        "    s = re.sub(r'([ \\t\\:\\dA-Z]+[가-힣]?\\~[ \\t]*(?=\\d))|(\\~[ \\t]*(?!\\d))', ' ', s)\n",
        "    s = re.sub(r'\\([^\\(]*\\\\.*\\)', '', s)\n",
        "    s = re.sub(r'\\+', ' + ', s)\n",
        "    s = re.sub(r'\\.\\,', ',', s)\n",
        "    s = re.sub(r'[－ㅡ]+\\-?', '-', s)\n",
        "    s = re.sub(r'프라자', '', s)\n",
        "    s = re.sub(r'인한', ' ', s)\n",
        "    s = re.sub(r'되어', ' ', s)\n",
        "    s = re.sub(r'(모닝)|(올리브영)|(쏘나타뉴라이즈)|(투싼)|(소나타)|(밀양역)|(올뉴 밀양역옆)|(에서)|(차랑)|(의당)|(vip)', ' ', s)\n",
        "\n",
        "\n",
        "    \n",
        "    \n",
        "    return s"
      ],
      "execution_count": 8,
      "outputs": []
    },
    {
      "cell_type": "markdown",
      "metadata": {
        "id": "WR17P00Zn0Q9"
      },
      "source": [
        ""
      ]
    },
    {
      "cell_type": "code",
      "metadata": {
        "colab": {
          "base_uri": "https://localhost:8080/"
        },
        "id": "8-mlLXluX1C3",
        "outputId": "81b0084f-6243-4e1c-a761-e673ba4ef554"
      },
      "source": [
        "df_origin = pd.read_csv(PATH + '/memo_hackathon_lesion_info_table.tsv', index_col = 0)\n",
        "with open(PATH + '/tstation_center.txt', 'r') as f:\n",
        "    centers = f.read()\n",
        "\n",
        "centers = centers.splitlines()\n",
        "print(centers[:10])"
      ],
      "execution_count": 9,
      "outputs": [
        {
          "output_type": "stream",
          "name": "stdout",
          "text": [
            "['연초점', '부산부곡점', '판교점', '광교신도시점', '관양점', '대저점', '원광대점', '창원신월점', '부평IC점', '신설역점']\n"
          ]
        }
      ]
    },
    {
      "cell_type": "code",
      "metadata": {
        "id": "1xYh_1IkW_cB"
      },
      "source": [
        "import re\n",
        "\n",
        "\n",
        "df = df_origin.drop_duplicates('description')[['lesion_id', 'inspect_type', 'price', 'description']].drop(index=11409)\n",
        "df = df.dropna(subset=['description']).apply(delete_lesion_id_to_description, axis=1)\n",
        "df['pre_desc'] = df.description.map(delete_unnecessary_words)\n",
        "df['pre_desc'] = df.pre_desc.map(lambda s: replace_entity_to_keyword(s))"
      ],
      "execution_count": 10,
      "outputs": []
    },
    {
      "cell_type": "markdown",
      "metadata": {
        "id": "X5v1qABdehbp"
      },
      "source": [
        "# SentencePiece Tokenizer"
      ]
    },
    {
      "cell_type": "code",
      "metadata": {
        "id": "FtIqHxVuehby"
      },
      "source": [
        "with open(PATH+'/spm_txt/1207_final.txt','w') as w:\n",
        "    w.write('\\n'.join(df['pre_desc']))"
      ],
      "execution_count": 11,
      "outputs": []
    },
    {
      "cell_type": "code",
      "metadata": {
        "id": "iMbfCxWzehby"
      },
      "source": [
        "def spm_train(txt_path, prefix, size):\n",
        "\n",
        "    templates= '--input={} \\\n",
        "    --pad_id={} \\\n",
        "    --bos_id={} \\\n",
        "    --eos_id={} \\\n",
        "    --unk_id={} \\\n",
        "    --model_prefix={} \\\n",
        "    --vocab_size={} \\\n",
        "    --character_coverage={} \\\n",
        "    --model_type={} \\\n",
        "    --user_defined_symbols={}'\n",
        "\n",
        "\n",
        "    train_input_file = PATH+'/spm_txt' + f'/{txt_path}'\n",
        "    pad_id = 0  # <pad>\n",
        "    vocab_size = size  # vocab size\n",
        "    prefix =  PATH+'/spm_txt' +  f'/{prefix}'\n",
        "    bos_id = 1 # <start> token\n",
        "    eos_id = 2 # <end> token\n",
        "    unk_id = 3 # <unknown> token\n",
        "    character_coverage = 1.0 # 보통 1\n",
        "    model_type = 'unigram' # Choose from unigram (default), bpe, char, or word\n",
        "    user_words ='[SEP],교환,수리'\n",
        "\n",
        "\n",
        "    cmd = templates.format(train_input_file,\n",
        "                    pad_id,\n",
        "                    bos_id,\n",
        "                    eos_id,\n",
        "                    unk_id,\n",
        "                    prefix,\n",
        "                    vocab_size,\n",
        "                    character_coverage,\n",
        "                    model_type,\n",
        "                    user_words\n",
        "                    )\n",
        "    \n",
        "    spm.SentencePieceTrainer.Train(cmd)\n",
        "\n",
        "\n"
      ],
      "execution_count": 12,
      "outputs": []
    },
    {
      "cell_type": "code",
      "metadata": {
        "id": "HcstKMdpehbz"
      },
      "source": [
        "spm_train('1207_final.txt', 'labeling', 5098)"
      ],
      "execution_count": 13,
      "outputs": []
    },
    {
      "cell_type": "code",
      "metadata": {
        "id": "M6ww5Ew1ehbz",
        "colab": {
          "base_uri": "https://localhost:8080/"
        },
        "outputId": "61a45d8f-1dbf-4f66-cd8f-98cb706ea4c8"
      },
      "source": [
        "!ls /content/drive/MyDrive/정비메모분석/data/spm_txt"
      ],
      "execution_count": 14,
      "outputs": [
        {
          "output_type": "stream",
          "name": "stdout",
          "text": [
            "1123_etc.model\t  1123_small.vocab  1124_mid.txt      1126_final.txt\n",
            "1123_etc.txt\t  1123_whole.model  1124_mid.vocab    1126_whole.model\n",
            "1123_etc.vocab\t  1123_whole.txt    1124_small.model  1126_whole.txt\n",
            "1123_mid.model\t  1123_whole.vocab  1124_small.txt    1126_whole.vocab\n",
            "1123_mid.txt\t  1124_etc.model    1124_small.vocab  1207_final.txt\n",
            "1123_mid.vocab\t  1124_etc.txt\t    1124_whole.model  labeling.model\n",
            "1123_small.model  1124_etc.vocab    1124_whole.txt    labeling.vocab\n",
            "1123_small.txt\t  1124_mid.model    1124_whole.vocab\n"
          ]
        }
      ]
    },
    {
      "cell_type": "code",
      "metadata": {
        "id": "aKFMAFWoehb0",
        "colab": {
          "base_uri": "https://localhost:8080/"
        },
        "outputId": "871e4537-6fa6-48e7-e600-1b5f1e33c093"
      },
      "source": [
        "%cd /content/drive/MyDrive/정비메모분석/data/spm_txt/"
      ],
      "execution_count": 15,
      "outputs": [
        {
          "output_type": "stream",
          "name": "stdout",
          "text": [
            "/content/drive/.shortcut-targets-by-id/1uXXZoGgEisxGUC2DGKU-rdd0oI-VqMPi/정비메모분석/data/spm_txt\n"
          ]
        }
      ]
    },
    {
      "cell_type": "code",
      "metadata": {
        "id": "nWUIpOyLehb0"
      },
      "source": [
        "dfff = pd.read_csv('labeling.vocab', names=['token', 'loss'], delimiter = '\\t')"
      ],
      "execution_count": 16,
      "outputs": []
    },
    {
      "cell_type": "code",
      "metadata": {
        "id": "vkMCXMD-ehb0",
        "colab": {
          "base_uri": "https://localhost:8080/",
          "height": 35
        },
        "outputId": "41810870-2fe4-46ac-aeb0-c224a37c29bd"
      },
      "source": [
        "%pwd"
      ],
      "execution_count": 17,
      "outputs": [
        {
          "output_type": "execute_result",
          "data": {
            "application/vnd.google.colaboratory.intrinsic+json": {
              "type": "string"
            },
            "text/plain": [
              "'/content/drive/.shortcut-targets-by-id/1uXXZoGgEisxGUC2DGKU-rdd0oI-VqMPi/정비메모분석/data/spm_txt'"
            ]
          },
          "metadata": {},
          "execution_count": 17
        }
      ]
    },
    {
      "cell_type": "code",
      "metadata": {
        "id": "QOZmrvrCehb1",
        "colab": {
          "base_uri": "https://localhost:8080/"
        },
        "outputId": "1a75bf5a-856b-48b5-869b-f5ca3730b6d3"
      },
      "source": [
        "path = PATH + '/spm_txt'\n",
        "\n",
        "sp_0 = spm.SentencePieceProcessor()\n",
        "vocab_file = path + '/labeling.model'\n",
        "sp_0.load(vocab_file)"
      ],
      "execution_count": 18,
      "outputs": [
        {
          "output_type": "execute_result",
          "data": {
            "text/plain": [
              "True"
            ]
          },
          "metadata": {},
          "execution_count": 18
        }
      ]
    },
    {
      "cell_type": "code",
      "metadata": {
        "id": "kvCcjQH7Ijbx"
      },
      "source": [
        "df.dropna(subset=['pre_desc'], inplace= True)"
      ],
      "execution_count": 19,
      "outputs": []
    },
    {
      "cell_type": "code",
      "metadata": {
        "id": "_BsZBhykehb1"
      },
      "source": [
        "def labeling(memo):\n",
        "        morph_descriptions = []\n",
        "        memo.replace('_',' ').replace('-',' ').replace('ㄴ',' ').replace('#',' ').replace('=',' ').replace(')',' ) ').replace('(',' ( ')\n",
        "        sp_id = sp_0.encode_as_ids(memo) # [43, 123, 4 ,435, 369, 23, 44, 55,4000,3500, 3  4 ,1242]\n",
        "        for idx, token_id in enumerate(sp_id):\n",
        "            if not idx:\n",
        "                cut =[]\n",
        "                count = 0\n",
        "            if token_id == 4 or idx ==len(sp_id)-1:\n",
        "\n",
        "                if token_id != 4:\n",
        "                    cut.append(token_id)     \n",
        "                temp_1 = sorted(cut)[:8]\n",
        "                long_cut = [x for x in cut if x in temp_1]\n",
        "\n",
        "                long_out = sp_0.id_to_piece(long_cut)\n",
        "                long_out = [i for i in long_out if not len(i)==1 or i in ['휠', '액', '등'] if not (len(i)==2 and i[0]=='▁') or i in['▁휠']]\n",
        "                long_cand = ' '.join([token.replace('▁','').replace('하였', '') for token in long_out])\n",
        "\n",
        "                if long_cand:\n",
        "                    morph_descriptions.append(long_cand) # SentencePiece feature\n",
        "                \n",
        "                cut=[]\n",
        "                count += 1\n",
        "\n",
        "            else: \n",
        "                cut.append(token_id) \n",
        "        if not morph_descriptions:\n",
        "            return None \n",
        "        return morph_descriptions"
      ],
      "execution_count": 20,
      "outputs": []
    },
    {
      "cell_type": "code",
      "metadata": {
        "id": "A6_1FeZvehb1",
        "colab": {
          "base_uri": "https://localhost:8080/",
          "height": 35
        },
        "outputId": "dd3f2f75-d055-4ef7-f541-7279f37f3cf3"
      },
      "source": [
        "'▁/'[0]"
      ],
      "execution_count": 21,
      "outputs": [
        {
          "output_type": "execute_result",
          "data": {
            "application/vnd.google.colaboratory.intrinsic+json": {
              "type": "string"
            },
            "text/plain": [
              "'▁'"
            ]
          },
          "metadata": {},
          "execution_count": 21
        }
      ]
    },
    {
      "cell_type": "code",
      "metadata": {
        "id": "L16PgmqcxtX2",
        "colab": {
          "base_uri": "https://localhost:8080/"
        },
        "outputId": "1242be1f-db29-4ac7-f85e-626b199b7841"
      },
      "source": [
        "s = '와이퍼 교환'\n",
        "labeling(s)"
      ],
      "execution_count": 22,
      "outputs": [
        {
          "output_type": "execute_result",
          "data": {
            "text/plain": [
              "['와이퍼 교환']"
            ]
          },
          "metadata": {},
          "execution_count": 22
        }
      ]
    },
    {
      "cell_type": "code",
      "metadata": {
        "id": "cs5EqjUPKdNt"
      },
      "source": [
        "from collections import Counter\n",
        "\n",
        "\n",
        "def label_and_count(df):\n",
        "    df['labeled'] = df['pre_desc'].apply(lambda s: labeling(str(s)))\n",
        "    #df['short_label'] = df['pre_desc'].apply(lambda s: labeling(str(s))[1])\n",
        "    \n",
        "    label_list=[]\n",
        "    for row  in df['labeled']:\n",
        "        try:\n",
        "            label_list.extend(row)\n",
        "        except:\n",
        "            pass\n",
        "    \n",
        "    cnt = Counter(label_list)\n",
        "    label_set = set(label_list)\n",
        "    return df, cnt, label_list, label_set\n",
        "\n"
      ],
      "execution_count": 23,
      "outputs": []
    },
    {
      "cell_type": "code",
      "metadata": {
        "id": "1yeyvPrrehb2"
      },
      "source": [
        "df, cnt, label_list, label_set = label_and_count(df)"
      ],
      "execution_count": 24,
      "outputs": []
    },
    {
      "cell_type": "code",
      "metadata": {
        "id": "JL4VdYK0NpTO",
        "colab": {
          "base_uri": "https://localhost:8080/",
          "height": 35
        },
        "outputId": "a110a22a-ba19-4367-a217-d77707bbbb9f"
      },
      "source": [
        "PATH"
      ],
      "execution_count": 25,
      "outputs": [
        {
          "output_type": "execute_result",
          "data": {
            "application/vnd.google.colaboratory.intrinsic+json": {
              "type": "string"
            },
            "text/plain": [
              "'/content/drive/MyDrive/정비메모분석/data'"
            ]
          },
          "metadata": {},
          "execution_count": 25
        }
      ]
    },
    {
      "cell_type": "code",
      "metadata": {
        "id": "BKCA5nc0MS9L"
      },
      "source": [
        "df.to_csv(PATH + '/labeled_desc.tsv', sep='\\t')"
      ],
      "execution_count": 26,
      "outputs": []
    },
    {
      "cell_type": "markdown",
      "metadata": {
        "id": "X3jkiANF3UfO"
      },
      "source": [
        "# Cluster Labels"
      ]
    },
    {
      "cell_type": "code",
      "metadata": {
        "id": "H1yCkUqHIbRA",
        "colab": {
          "base_uri": "https://localhost:8080/"
        },
        "outputId": "c18692a8-2e59-4185-f33e-5de68f60c925"
      },
      "source": [
        "len(cnt)"
      ],
      "execution_count": 27,
      "outputs": [
        {
          "output_type": "execute_result",
          "data": {
            "text/plain": [
              "9597"
            ]
          },
          "metadata": {},
          "execution_count": 27
        }
      ]
    },
    {
      "cell_type": "code",
      "metadata": {
        "id": "CZDDjRFEULm-"
      },
      "source": [
        "cnt_300 = cnt.most_common(300)\n",
        "cnt_300 = [x[0] for x in cnt_300]"
      ],
      "execution_count": 28,
      "outputs": []
    },
    {
      "cell_type": "code",
      "metadata": {
        "id": "bGjgWeCS363y"
      },
      "source": [
        "# label_list"
      ],
      "execution_count": 29,
      "outputs": []
    },
    {
      "cell_type": "code",
      "metadata": {
        "id": "vA_lQER-3QC_",
        "colab": {
          "base_uri": "https://localhost:8080/"
        },
        "outputId": "bde30fa9-f234-4cb4-f904-4996510505b1"
      },
      "source": [
        "categories = list(label_set)\n",
        "len(categories)"
      ],
      "execution_count": 30,
      "outputs": [
        {
          "output_type": "execute_result",
          "data": {
            "text/plain": [
              "9597"
            ]
          },
          "metadata": {},
          "execution_count": 30
        }
      ]
    },
    {
      "cell_type": "code",
      "metadata": {
        "id": "Vz5cNdvo4PHN",
        "colab": {
          "base_uri": "https://localhost:8080/"
        },
        "outputId": "02b09d67-d816-4416-cc9e-2508867e9ec0"
      },
      "source": [
        "!mkdir /content/drive/MyDrive/정비메모분석/data/labels\n",
        "%cd /content/drive/MyDrive/정비메모분석/data/labels"
      ],
      "execution_count": 31,
      "outputs": [
        {
          "output_type": "stream",
          "name": "stdout",
          "text": [
            "mkdir: cannot create directory ‘/content/drive/MyDrive/정비메모분석/data/labels’: File exists\n",
            "/content/drive/.shortcut-targets-by-id/1uXXZoGgEisxGUC2DGKU-rdd0oI-VqMPi/정비메모분석/data/labels\n"
          ]
        }
      ]
    },
    {
      "cell_type": "code",
      "metadata": {
        "id": "cAYUOAzC4RF6"
      },
      "source": [
        "with open(PATH+'/labels/1126_labels.txt','w') as w:\n",
        "    w.write('\\n'.join(categories))"
      ],
      "execution_count": 32,
      "outputs": []
    },
    {
      "cell_type": "code",
      "metadata": {
        "id": "440fyVI9O4fW"
      },
      "source": [
        "from tqdm.auto import tqdm\n",
        "#from tqdm import tqdm\n",
        "from collections import defaultdict\n",
        "\n",
        "#categories = ['후우타이어 교환', '타이어 교환', '네비게이션 교환', 'fdfjd']\n",
        "\n",
        "with open(PATH+'/labels/1126_labels.txt', 'rt', encoding='UTF8') as f:\n",
        "    categories = f.read().split('\\n')\n",
        "\n",
        "words = set()\n",
        "for category in categories:\n",
        "    words.update(category.split())\n",
        "    \n",
        "\n",
        "\n",
        "def group_duplicated_word(words:set):\n",
        "    '''\n",
        "    defaultdict이 import 되어야한다.\n",
        "    words : 공백기준으로 split된 문자집합\n",
        "    return : 중복단어를 가장 작은 단어를 키워드로 그룹화\n",
        "            각 그룹의 첫번째 원소가 키워드이다.\n",
        "    '''\n",
        "    group_dict = defaultdict(list)\n",
        "    group_ids_dict = defaultdict(set)\n",
        "    id_generator = iter(range(1, 20000))\n",
        "\n",
        "\n",
        "    def add_to_group(src, trg):\n",
        "        included = False\n",
        "\n",
        "        if group_ids_dict[src]:\n",
        "            for id in group_ids_dict[src]:\n",
        "                keyword = group_dict[id][0]\n",
        "                if keyword in trg:\n",
        "                    group_dict[id].append(trg)\n",
        "                    group_ids_dict[trg].add(id)\n",
        "                    included = True\n",
        "        elif group_ids_dict[trg]:\n",
        "            for id in group_ids_dict[trg]:\n",
        "                keyword = group_dict[id][0]\n",
        "                if src in keyword:\n",
        "                    group_dict[id].insert(0, src)\n",
        "                elif keyword in src:\n",
        "                    group_dict[id].append(src)\n",
        "                else:\n",
        "                    continue\n",
        "                included = True\n",
        "                group_ids_dict[src].add(id)\n",
        "\n",
        "        if included == False:\n",
        "            id = id_generator.__next__()\n",
        "            group_dict[id].append(src)\n",
        "            group_dict[id].append(trg)\n",
        "            group_ids_dict[src].add(id)\n",
        "            group_ids_dict[trg].add(id)\n",
        "\n",
        "    for src in tqdm(words):\n",
        "        for trg in words:\n",
        "            if src == trg:\n",
        "                continue\n",
        "\n",
        "            if src in trg:\n",
        "                add_to_group(src, trg)\n",
        "    \n",
        "    for k ,v in group_dict.items():\n",
        "        group_dict[k] = set(v)\n",
        "    return group_dict"
      ],
      "execution_count": 33,
      "outputs": []
    },
    {
      "cell_type": "code",
      "metadata": {
        "id": "tI7GDIva4xtO"
      },
      "source": [
        "# group_duplicated_word(words)"
      ],
      "execution_count": 34,
      "outputs": []
    },
    {
      "cell_type": "code",
      "metadata": {
        "id": "o81RJ4vf43lT",
        "colab": {
          "base_uri": "https://localhost:8080/",
          "height": 637
        },
        "outputId": "f5cd0066-3ee4-4d19-f7ee-7db01da3793f"
      },
      "source": [
        "df.groupby(by='inspect_type').count()"
      ],
      "execution_count": 35,
      "outputs": [
        {
          "output_type": "execute_result",
          "data": {
            "application/vnd.google.colaboratory.module+javascript": "\n      import \"https://ssl.gstatic.com/colaboratory/data_table/a6224c040fa35dcf/data_table.js\";\n\n      window.createDataTable({\n        data: [[\"CSA\",\n{\n            'v': 156,\n            'f': \"156\",\n        },\n{\n            'v': 156,\n            'f': \"156\",\n        },\n{\n            'v': 156,\n            'f': \"156\",\n        },\n{\n            'v': 156,\n            'f': \"156\",\n        },\n{\n            'v': 156,\n            'f': \"156\",\n        }],\n [\"TCS\",\n{\n            'v': 17,\n            'f': \"17\",\n        },\n{\n            'v': 17,\n            'f': \"17\",\n        },\n{\n            'v': 17,\n            'f': \"17\",\n        },\n{\n            'v': 17,\n            'f': \"17\",\n        },\n{\n            'v': 17,\n            'f': \"17\",\n        }],\n [\"\\uae30\\ud0c0\",\n{\n            'v': 272,\n            'f': \"272\",\n        },\n{\n            'v': 272,\n            'f': \"272\",\n        },\n{\n            'v': 272,\n            'f': \"272\",\n        },\n{\n            'v': 272,\n            'f': \"272\",\n        },\n{\n            'v': 271,\n            'f': \"271\",\n        }],\n [\"\\ub124\\ube44\\uac8c\\uc774\\uc158\",\n{\n            'v': 743,\n            'f': \"743\",\n        },\n{\n            'v': 743,\n            'f': \"743\",\n        },\n{\n            'v': 743,\n            'f': \"743\",\n        },\n{\n            'v': 743,\n            'f': \"743\",\n        },\n{\n            'v': 742,\n            'f': \"742\",\n        }],\n [\"\\ubbf8\\uc158\\uc624\\uc77c\",\n{\n            'v': 2,\n            'f': \"2\",\n        },\n{\n            'v': 2,\n            'f': \"2\",\n        },\n{\n            'v': 2,\n            'f': \"2\",\n        },\n{\n            'v': 2,\n            'f': \"2\",\n        },\n{\n            'v': 2,\n            'f': \"2\",\n        }],\n [\"\\ubc30\\ud130\\ub9ac\",\n{\n            'v': 254,\n            'f': \"254\",\n        },\n{\n            'v': 254,\n            'f': \"254\",\n        },\n{\n            'v': 254,\n            'f': \"254\",\n        },\n{\n            'v': 254,\n            'f': \"254\",\n        },\n{\n            'v': 247,\n            'f': \"247\",\n        }],\n [\"\\ube0c\\ub808\\uc774\\ud06c\\uc561\",\n{\n            'v': 10,\n            'f': \"10\",\n        },\n{\n            'v': 10,\n            'f': \"10\",\n        },\n{\n            'v': 10,\n            'f': \"10\",\n        },\n{\n            'v': 10,\n            'f': \"10\",\n        },\n{\n            'v': 10,\n            'f': \"10\",\n        }],\n [\"\\ube14\\ub799\\ubc15\\uc2a4\",\n{\n            'v': 40,\n            'f': \"40\",\n        },\n{\n            'v': 40,\n            'f': \"40\",\n        },\n{\n            'v': 40,\n            'f': \"40\",\n        },\n{\n            'v': 40,\n            'f': \"40\",\n        },\n{\n            'v': 40,\n            'f': \"40\",\n        }],\n [\"\\uc0ac\\uace0\\uc218\\ub9ac\",\n{\n            'v': 1,\n            'f': \"1\",\n        },\n{\n            'v': 1,\n            'f': \"1\",\n        },\n{\n            'v': 1,\n            'f': \"1\",\n        },\n{\n            'v': 1,\n            'f': \"1\",\n        },\n{\n            'v': 1,\n            'f': \"1\",\n        }],\n [\"\\uc0ac\\uace0\\uc870\\uc0ac\",\n{\n            'v': 127,\n            'f': \"127\",\n        },\n{\n            'v': 127,\n            'f': \"127\",\n        },\n{\n            'v': 127,\n            'f': \"127\",\n        },\n{\n            'v': 127,\n            'f': \"127\",\n        },\n{\n            'v': 127,\n            'f': \"127\",\n        }],\n [\"\\uc0c1\\ud488\\ud654\\uc810\\uac80\",\n{\n            'v': 1,\n            'f': \"1\",\n        },\n{\n            'v': 1,\n            'f': \"1\",\n        },\n{\n            'v': 1,\n            'f': \"1\",\n        },\n{\n            'v': 1,\n            'f': \"1\",\n        },\n{\n            'v': 1,\n            'f': \"1\",\n        }],\n [\"\\uc138\\ucc28\\uc810\\uac80\",\n{\n            'v': 3,\n            'f': \"3\",\n        },\n{\n            'v': 3,\n            'f': \"3\",\n        },\n{\n            'v': 3,\n            'f': \"3\",\n        },\n{\n            'v': 3,\n            'f': \"3\",\n        },\n{\n            'v': 3,\n            'f': \"3\",\n        }],\n [\"\\uc5bc\\ub77c\\uc774\\uba3c\\ud2b8\",\n{\n            'v': 91,\n            'f': \"91\",\n        },\n{\n            'v': 91,\n            'f': \"91\",\n        },\n{\n            'v': 91,\n            'f': \"91\",\n        },\n{\n            'v': 91,\n            'f': \"91\",\n        },\n{\n            'v': 84,\n            'f': \"84\",\n        }],\n [\"\\uc5d0\\uc5b4\\ucee8\\ud544\\ud130\",\n{\n            'v': 67,\n            'f': \"67\",\n        },\n{\n            'v': 67,\n            'f': \"67\",\n        },\n{\n            'v': 67,\n            'f': \"67\",\n        },\n{\n            'v': 67,\n            'f': \"67\",\n        },\n{\n            'v': 66,\n            'f': \"66\",\n        }],\n [\"\\uc5d4\\uc9c4\\uc624\\uc77c\",\n{\n            'v': 66,\n            'f': \"66\",\n        },\n{\n            'v': 66,\n            'f': \"66\",\n        },\n{\n            'v': 66,\n            'f': \"66\",\n        },\n{\n            'v': 66,\n            'f': \"66\",\n        },\n{\n            'v': 63,\n            'f': \"63\",\n        }],\n [\"\\uc640\\uc774\\ud37c\",\n{\n            'v': 87,\n            'f': \"87\",\n        },\n{\n            'v': 87,\n            'f': \"87\",\n        },\n{\n            'v': 87,\n            'f': \"87\",\n        },\n{\n            'v': 87,\n            'f': \"87\",\n        },\n{\n            'v': 83,\n            'f': \"83\",\n        }],\n [\"\\uc77c\\ubc18\\uc218\\ub9ac\",\n{\n            'v': 4683,\n            'f': \"4683\",\n        },\n{\n            'v': 4683,\n            'f': \"4683\",\n        },\n{\n            'v': 4683,\n            'f': \"4683\",\n        },\n{\n            'v': 4683,\n            'f': \"4683\",\n        },\n{\n            'v': 4681,\n            'f': \"4681\",\n        }],\n [\"\\uc77c\\ubc18\\uc810\\uac80\",\n{\n            'v': 557,\n            'f': \"557\",\n        },\n{\n            'v': 557,\n            'f': \"557\",\n        },\n{\n            'v': 557,\n            'f': \"557\",\n        },\n{\n            'v': 557,\n            'f': \"557\",\n        },\n{\n            'v': 555,\n            'f': \"555\",\n        }],\n [\"\\uc7a5\\uc560\\ucc98\\ub9ac\",\n{\n            'v': 4049,\n            'f': \"4049\",\n        },\n{\n            'v': 4049,\n            'f': \"4049\",\n        },\n{\n            'v': 4049,\n            'f': \"4049\",\n        },\n{\n            'v': 4049,\n            'f': \"4049\",\n        },\n{\n            'v': 4046,\n            'f': \"4046\",\n        }],\n [\"\\uc7ac\\ucda9\\uc804\\ubc30\\ud130\\ub9ac\",\n{\n            'v': 3,\n            'f': \"3\",\n        },\n{\n            'v': 3,\n            'f': \"3\",\n        },\n{\n            'v': 3,\n            'f': \"3\",\n        },\n{\n            'v': 3,\n            'f': \"3\",\n        },\n{\n            'v': 3,\n            'f': \"3\",\n        }],\n [\"\\uc804\\uc555\\uad00\\ub9ac\",\n{\n            'v': 95,\n            'f': \"95\",\n        },\n{\n            'v': 95,\n            'f': \"95\",\n        },\n{\n            'v': 95,\n            'f': \"95\",\n        },\n{\n            'v': 95,\n            'f': \"95\",\n        },\n{\n            'v': 95,\n            'f': \"95\",\n        }],\n [\"\\uc804\\ud328\\ub4dc\",\n{\n            'v': 79,\n            'f': \"79\",\n        },\n{\n            'v': 79,\n            'f': \"79\",\n        },\n{\n            'v': 79,\n            'f': \"79\",\n        },\n{\n            'v': 79,\n            'f': \"79\",\n        },\n{\n            'v': 73,\n            'f': \"73\",\n        }],\n [\"\\uc810\\ud654\\ud50c\\ub7ec\\uadf8\",\n{\n            'v': 39,\n            'f': \"39\",\n        },\n{\n            'v': 39,\n            'f': \"39\",\n        },\n{\n            'v': 39,\n            'f': \"39\",\n        },\n{\n            'v': 39,\n            'f': \"39\",\n        },\n{\n            'v': 36,\n            'f': \"36\",\n        }],\n [\"\\uc8fc\\ucc28\\uc7a5\\uc704\\uce58\",\n{\n            'v': 32,\n            'f': \"32\",\n        },\n{\n            'v': 32,\n            'f': \"32\",\n        },\n{\n            'v': 32,\n            'f': \"32\",\n        },\n{\n            'v': 32,\n            'f': \"32\",\n        },\n{\n            'v': 32,\n            'f': \"32\",\n        }],\n [\"\\ucd9c\\uc7a5\\uc810\\uac80\",\n{\n            'v': 34,\n            'f': \"34\",\n        },\n{\n            'v': 34,\n            'f': \"34\",\n        },\n{\n            'v': 34,\n            'f': \"34\",\n        },\n{\n            'v': 34,\n            'f': \"34\",\n        },\n{\n            'v': 34,\n            'f': \"34\",\n        }],\n [\"\\ucef4\\ud30c\\uc6b4\\ub4dc\",\n{\n            'v': 2,\n            'f': \"2\",\n        },\n{\n            'v': 2,\n            'f': \"2\",\n        },\n{\n            'v': 2,\n            'f': \"2\",\n        },\n{\n            'v': 2,\n            'f': \"2\",\n        },\n{\n            'v': 2,\n            'f': \"2\",\n        }],\n [\"\\ud0a4\\ucf00\\uc774\\ube14\",\n{\n            'v': 4,\n            'f': \"4\",\n        },\n{\n            'v': 4,\n            'f': \"4\",\n        },\n{\n            'v': 4,\n            'f': \"4\",\n        },\n{\n            'v': 4,\n            'f': \"4\",\n        },\n{\n            'v': 4,\n            'f': \"4\",\n        }],\n [\"\\ud0c0\\uc774\\uc5b4\\uad50\\uccb4(\\uc804\\uc6b0)\",\n{\n            'v': 219,\n            'f': \"219\",\n        },\n{\n            'v': 219,\n            'f': \"219\",\n        },\n{\n            'v': 219,\n            'f': \"219\",\n        },\n{\n            'v': 219,\n            'f': \"219\",\n        },\n{\n            'v': 118,\n            'f': \"118\",\n        }],\n [\"\\ud0c0\\uc774\\uc5b4\\uad50\\uccb4(\\uc804\\uc88c)\",\n{\n            'v': 254,\n            'f': \"254\",\n        },\n{\n            'v': 254,\n            'f': \"254\",\n        },\n{\n            'v': 254,\n            'f': \"254\",\n        },\n{\n            'v': 254,\n            'f': \"254\",\n        },\n{\n            'v': 114,\n            'f': \"114\",\n        }],\n [\"\\ud0c0\\uc774\\uc5b4\\uad50\\uccb4(\\ud6c4\\uc6b0)\",\n{\n            'v': 89,\n            'f': \"89\",\n        },\n{\n            'v': 89,\n            'f': \"89\",\n        },\n{\n            'v': 89,\n            'f': \"89\",\n        },\n{\n            'v': 89,\n            'f': \"89\",\n        },\n{\n            'v': 53,\n            'f': \"53\",\n        }],\n [\"\\ud0c0\\uc774\\uc5b4\\uad50\\uccb4(\\ud6c4\\uc88c)\",\n{\n            'v': 87,\n            'f': \"87\",\n        },\n{\n            'v': 87,\n            'f': \"87\",\n        },\n{\n            'v': 87,\n            'f': \"87\",\n        },\n{\n            'v': 87,\n            'f': \"87\",\n        },\n{\n            'v': 47,\n            'f': \"47\",\n        }],\n [\"\\ud0c0\\uc774\\uc5b4\\uc218\\ub9ac(\\uc804\\uc6b0)\",\n{\n            'v': 22,\n            'f': \"22\",\n        },\n{\n            'v': 22,\n            'f': \"22\",\n        },\n{\n            'v': 22,\n            'f': \"22\",\n        },\n{\n            'v': 22,\n            'f': \"22\",\n        },\n{\n            'v': 22,\n            'f': \"22\",\n        }],\n [\"\\ud0c0\\uc774\\uc5b4\\uc218\\ub9ac(\\uc804\\uc88c)\",\n{\n            'v': 27,\n            'f': \"27\",\n        },\n{\n            'v': 27,\n            'f': \"27\",\n        },\n{\n            'v': 27,\n            'f': \"27\",\n        },\n{\n            'v': 27,\n            'f': \"27\",\n        },\n{\n            'v': 27,\n            'f': \"27\",\n        }],\n [\"\\ud0c0\\uc774\\uc5b4\\uc218\\ub9ac(\\ud6c4\\uc6b0)\",\n{\n            'v': 48,\n            'f': \"48\",\n        },\n{\n            'v': 48,\n            'f': \"48\",\n        },\n{\n            'v': 48,\n            'f': \"48\",\n        },\n{\n            'v': 48,\n            'f': \"48\",\n        },\n{\n            'v': 48,\n            'f': \"48\",\n        }],\n [\"\\ud0c0\\uc774\\uc5b4\\uc218\\ub9ac(\\ud6c4\\uc88c)\",\n{\n            'v': 43,\n            'f': \"43\",\n        },\n{\n            'v': 43,\n            'f': \"43\",\n        },\n{\n            'v': 43,\n            'f': \"43\",\n        },\n{\n            'v': 43,\n            'f': \"43\",\n        },\n{\n            'v': 43,\n            'f': \"43\",\n        }],\n [\"\\ud0c0\\uc774\\uc5b4\\uc77c\\ubc18\",\n{\n            'v': 400,\n            'f': \"400\",\n        },\n{\n            'v': 400,\n            'f': \"400\",\n        },\n{\n            'v': 400,\n            'f': \"400\",\n        },\n{\n            'v': 400,\n            'f': \"400\",\n        },\n{\n            'v': 398,\n            'f': \"398\",\n        }],\n [\"\\ud6c4\\ubc29\\uce74\\uba54\\ub77c\",\n{\n            'v': 108,\n            'f': \"108\",\n        },\n{\n            'v': 108,\n            'f': \"108\",\n        },\n{\n            'v': 108,\n            'f': \"108\",\n        },\n{\n            'v': 108,\n            'f': \"108\",\n        },\n{\n            'v': 108,\n            'f': \"108\",\n        }],\n [\"\\ud6c4\\ud328\\ub4dc\",\n{\n            'v': 62,\n            'f': \"62\",\n        },\n{\n            'v': 62,\n            'f': \"62\",\n        },\n{\n            'v': 62,\n            'f': \"62\",\n        },\n{\n            'v': 62,\n            'f': \"62\",\n        },\n{\n            'v': 58,\n            'f': \"58\",\n        }]],\n        columns: [[\"string\", \"inspect_type\"], [\"number\", \"lesion_id\"], [\"number\", \"price\"], [\"number\", \"description\"], [\"number\", \"pre_desc\"], [\"number\", \"labeled\"]],\n        columnOptions: [{\"width\": \"1px\", \"className\": \"index_column\"}],\n        rowsPerPage: 25,\n        helpUrl: \"https://colab.research.google.com/notebooks/data_table.ipynb\",\n        suppressOutputScrolling: true,\n        minimumWidth: undefined,\n      });\n    ",
            "text/html": [
              "<div>\n",
              "<style scoped>\n",
              "    .dataframe tbody tr th:only-of-type {\n",
              "        vertical-align: middle;\n",
              "    }\n",
              "\n",
              "    .dataframe tbody tr th {\n",
              "        vertical-align: top;\n",
              "    }\n",
              "\n",
              "    .dataframe thead th {\n",
              "        text-align: right;\n",
              "    }\n",
              "</style>\n",
              "<table border=\"1\" class=\"dataframe\">\n",
              "  <thead>\n",
              "    <tr style=\"text-align: right;\">\n",
              "      <th></th>\n",
              "      <th>lesion_id</th>\n",
              "      <th>price</th>\n",
              "      <th>description</th>\n",
              "      <th>pre_desc</th>\n",
              "      <th>labeled</th>\n",
              "    </tr>\n",
              "    <tr>\n",
              "      <th>inspect_type</th>\n",
              "      <th></th>\n",
              "      <th></th>\n",
              "      <th></th>\n",
              "      <th></th>\n",
              "      <th></th>\n",
              "    </tr>\n",
              "  </thead>\n",
              "  <tbody>\n",
              "    <tr>\n",
              "      <th>CSA</th>\n",
              "      <td>156</td>\n",
              "      <td>156</td>\n",
              "      <td>156</td>\n",
              "      <td>156</td>\n",
              "      <td>156</td>\n",
              "    </tr>\n",
              "    <tr>\n",
              "      <th>TCS</th>\n",
              "      <td>17</td>\n",
              "      <td>17</td>\n",
              "      <td>17</td>\n",
              "      <td>17</td>\n",
              "      <td>17</td>\n",
              "    </tr>\n",
              "    <tr>\n",
              "      <th>기타</th>\n",
              "      <td>272</td>\n",
              "      <td>272</td>\n",
              "      <td>272</td>\n",
              "      <td>272</td>\n",
              "      <td>271</td>\n",
              "    </tr>\n",
              "    <tr>\n",
              "      <th>네비게이션</th>\n",
              "      <td>743</td>\n",
              "      <td>743</td>\n",
              "      <td>743</td>\n",
              "      <td>743</td>\n",
              "      <td>742</td>\n",
              "    </tr>\n",
              "    <tr>\n",
              "      <th>미션오일</th>\n",
              "      <td>2</td>\n",
              "      <td>2</td>\n",
              "      <td>2</td>\n",
              "      <td>2</td>\n",
              "      <td>2</td>\n",
              "    </tr>\n",
              "    <tr>\n",
              "      <th>배터리</th>\n",
              "      <td>254</td>\n",
              "      <td>254</td>\n",
              "      <td>254</td>\n",
              "      <td>254</td>\n",
              "      <td>247</td>\n",
              "    </tr>\n",
              "    <tr>\n",
              "      <th>브레이크액</th>\n",
              "      <td>10</td>\n",
              "      <td>10</td>\n",
              "      <td>10</td>\n",
              "      <td>10</td>\n",
              "      <td>10</td>\n",
              "    </tr>\n",
              "    <tr>\n",
              "      <th>블랙박스</th>\n",
              "      <td>40</td>\n",
              "      <td>40</td>\n",
              "      <td>40</td>\n",
              "      <td>40</td>\n",
              "      <td>40</td>\n",
              "    </tr>\n",
              "    <tr>\n",
              "      <th>사고수리</th>\n",
              "      <td>1</td>\n",
              "      <td>1</td>\n",
              "      <td>1</td>\n",
              "      <td>1</td>\n",
              "      <td>1</td>\n",
              "    </tr>\n",
              "    <tr>\n",
              "      <th>사고조사</th>\n",
              "      <td>127</td>\n",
              "      <td>127</td>\n",
              "      <td>127</td>\n",
              "      <td>127</td>\n",
              "      <td>127</td>\n",
              "    </tr>\n",
              "    <tr>\n",
              "      <th>상품화점검</th>\n",
              "      <td>1</td>\n",
              "      <td>1</td>\n",
              "      <td>1</td>\n",
              "      <td>1</td>\n",
              "      <td>1</td>\n",
              "    </tr>\n",
              "    <tr>\n",
              "      <th>세차점검</th>\n",
              "      <td>3</td>\n",
              "      <td>3</td>\n",
              "      <td>3</td>\n",
              "      <td>3</td>\n",
              "      <td>3</td>\n",
              "    </tr>\n",
              "    <tr>\n",
              "      <th>얼라이먼트</th>\n",
              "      <td>91</td>\n",
              "      <td>91</td>\n",
              "      <td>91</td>\n",
              "      <td>91</td>\n",
              "      <td>84</td>\n",
              "    </tr>\n",
              "    <tr>\n",
              "      <th>에어컨필터</th>\n",
              "      <td>67</td>\n",
              "      <td>67</td>\n",
              "      <td>67</td>\n",
              "      <td>67</td>\n",
              "      <td>66</td>\n",
              "    </tr>\n",
              "    <tr>\n",
              "      <th>엔진오일</th>\n",
              "      <td>66</td>\n",
              "      <td>66</td>\n",
              "      <td>66</td>\n",
              "      <td>66</td>\n",
              "      <td>63</td>\n",
              "    </tr>\n",
              "    <tr>\n",
              "      <th>와이퍼</th>\n",
              "      <td>87</td>\n",
              "      <td>87</td>\n",
              "      <td>87</td>\n",
              "      <td>87</td>\n",
              "      <td>83</td>\n",
              "    </tr>\n",
              "    <tr>\n",
              "      <th>일반수리</th>\n",
              "      <td>4683</td>\n",
              "      <td>4683</td>\n",
              "      <td>4683</td>\n",
              "      <td>4683</td>\n",
              "      <td>4681</td>\n",
              "    </tr>\n",
              "    <tr>\n",
              "      <th>일반점검</th>\n",
              "      <td>557</td>\n",
              "      <td>557</td>\n",
              "      <td>557</td>\n",
              "      <td>557</td>\n",
              "      <td>555</td>\n",
              "    </tr>\n",
              "    <tr>\n",
              "      <th>장애처리</th>\n",
              "      <td>4049</td>\n",
              "      <td>4049</td>\n",
              "      <td>4049</td>\n",
              "      <td>4049</td>\n",
              "      <td>4046</td>\n",
              "    </tr>\n",
              "    <tr>\n",
              "      <th>재충전배터리</th>\n",
              "      <td>3</td>\n",
              "      <td>3</td>\n",
              "      <td>3</td>\n",
              "      <td>3</td>\n",
              "      <td>3</td>\n",
              "    </tr>\n",
              "    <tr>\n",
              "      <th>전압관리</th>\n",
              "      <td>95</td>\n",
              "      <td>95</td>\n",
              "      <td>95</td>\n",
              "      <td>95</td>\n",
              "      <td>95</td>\n",
              "    </tr>\n",
              "    <tr>\n",
              "      <th>전패드</th>\n",
              "      <td>79</td>\n",
              "      <td>79</td>\n",
              "      <td>79</td>\n",
              "      <td>79</td>\n",
              "      <td>73</td>\n",
              "    </tr>\n",
              "    <tr>\n",
              "      <th>점화플러그</th>\n",
              "      <td>39</td>\n",
              "      <td>39</td>\n",
              "      <td>39</td>\n",
              "      <td>39</td>\n",
              "      <td>36</td>\n",
              "    </tr>\n",
              "    <tr>\n",
              "      <th>주차장위치</th>\n",
              "      <td>32</td>\n",
              "      <td>32</td>\n",
              "      <td>32</td>\n",
              "      <td>32</td>\n",
              "      <td>32</td>\n",
              "    </tr>\n",
              "    <tr>\n",
              "      <th>출장점검</th>\n",
              "      <td>34</td>\n",
              "      <td>34</td>\n",
              "      <td>34</td>\n",
              "      <td>34</td>\n",
              "      <td>34</td>\n",
              "    </tr>\n",
              "    <tr>\n",
              "      <th>컴파운드</th>\n",
              "      <td>2</td>\n",
              "      <td>2</td>\n",
              "      <td>2</td>\n",
              "      <td>2</td>\n",
              "      <td>2</td>\n",
              "    </tr>\n",
              "    <tr>\n",
              "      <th>키케이블</th>\n",
              "      <td>4</td>\n",
              "      <td>4</td>\n",
              "      <td>4</td>\n",
              "      <td>4</td>\n",
              "      <td>4</td>\n",
              "    </tr>\n",
              "    <tr>\n",
              "      <th>타이어교체(전우)</th>\n",
              "      <td>219</td>\n",
              "      <td>219</td>\n",
              "      <td>219</td>\n",
              "      <td>219</td>\n",
              "      <td>118</td>\n",
              "    </tr>\n",
              "    <tr>\n",
              "      <th>타이어교체(전좌)</th>\n",
              "      <td>254</td>\n",
              "      <td>254</td>\n",
              "      <td>254</td>\n",
              "      <td>254</td>\n",
              "      <td>114</td>\n",
              "    </tr>\n",
              "    <tr>\n",
              "      <th>타이어교체(후우)</th>\n",
              "      <td>89</td>\n",
              "      <td>89</td>\n",
              "      <td>89</td>\n",
              "      <td>89</td>\n",
              "      <td>53</td>\n",
              "    </tr>\n",
              "    <tr>\n",
              "      <th>타이어교체(후좌)</th>\n",
              "      <td>87</td>\n",
              "      <td>87</td>\n",
              "      <td>87</td>\n",
              "      <td>87</td>\n",
              "      <td>47</td>\n",
              "    </tr>\n",
              "    <tr>\n",
              "      <th>타이어수리(전우)</th>\n",
              "      <td>22</td>\n",
              "      <td>22</td>\n",
              "      <td>22</td>\n",
              "      <td>22</td>\n",
              "      <td>22</td>\n",
              "    </tr>\n",
              "    <tr>\n",
              "      <th>타이어수리(전좌)</th>\n",
              "      <td>27</td>\n",
              "      <td>27</td>\n",
              "      <td>27</td>\n",
              "      <td>27</td>\n",
              "      <td>27</td>\n",
              "    </tr>\n",
              "    <tr>\n",
              "      <th>타이어수리(후우)</th>\n",
              "      <td>48</td>\n",
              "      <td>48</td>\n",
              "      <td>48</td>\n",
              "      <td>48</td>\n",
              "      <td>48</td>\n",
              "    </tr>\n",
              "    <tr>\n",
              "      <th>타이어수리(후좌)</th>\n",
              "      <td>43</td>\n",
              "      <td>43</td>\n",
              "      <td>43</td>\n",
              "      <td>43</td>\n",
              "      <td>43</td>\n",
              "    </tr>\n",
              "    <tr>\n",
              "      <th>타이어일반</th>\n",
              "      <td>400</td>\n",
              "      <td>400</td>\n",
              "      <td>400</td>\n",
              "      <td>400</td>\n",
              "      <td>398</td>\n",
              "    </tr>\n",
              "    <tr>\n",
              "      <th>후방카메라</th>\n",
              "      <td>108</td>\n",
              "      <td>108</td>\n",
              "      <td>108</td>\n",
              "      <td>108</td>\n",
              "      <td>108</td>\n",
              "    </tr>\n",
              "    <tr>\n",
              "      <th>후패드</th>\n",
              "      <td>62</td>\n",
              "      <td>62</td>\n",
              "      <td>62</td>\n",
              "      <td>62</td>\n",
              "      <td>58</td>\n",
              "    </tr>\n",
              "  </tbody>\n",
              "</table>\n",
              "</div>"
            ],
            "text/plain": [
              "              lesion_id  price  description  pre_desc  labeled\n",
              "inspect_type                                                  \n",
              "CSA                 156    156          156       156      156\n",
              "TCS                  17     17           17        17       17\n",
              "기타                  272    272          272       272      271\n",
              "네비게이션               743    743          743       743      742\n",
              "미션오일                  2      2            2         2        2\n",
              "배터리                 254    254          254       254      247\n",
              "브레이크액                10     10           10        10       10\n",
              "블랙박스                 40     40           40        40       40\n",
              "사고수리                  1      1            1         1        1\n",
              "사고조사                127    127          127       127      127\n",
              "상품화점검                 1      1            1         1        1\n",
              "세차점검                  3      3            3         3        3\n",
              "얼라이먼트                91     91           91        91       84\n",
              "에어컨필터                67     67           67        67       66\n",
              "엔진오일                 66     66           66        66       63\n",
              "와이퍼                  87     87           87        87       83\n",
              "일반수리               4683   4683         4683      4683     4681\n",
              "일반점검                557    557          557       557      555\n",
              "장애처리               4049   4049         4049      4049     4046\n",
              "재충전배터리                3      3            3         3        3\n",
              "전압관리                 95     95           95        95       95\n",
              "전패드                  79     79           79        79       73\n",
              "점화플러그                39     39           39        39       36\n",
              "주차장위치                32     32           32        32       32\n",
              "출장점검                 34     34           34        34       34\n",
              "컴파운드                  2      2            2         2        2\n",
              "키케이블                  4      4            4         4        4\n",
              "타이어교체(전우)           219    219          219       219      118\n",
              "타이어교체(전좌)           254    254          254       254      114\n",
              "타이어교체(후우)            89     89           89        89       53\n",
              "타이어교체(후좌)            87     87           87        87       47\n",
              "타이어수리(전우)            22     22           22        22       22\n",
              "타이어수리(전좌)            27     27           27        27       27\n",
              "타이어수리(후우)            48     48           48        48       48\n",
              "타이어수리(후좌)            43     43           43        43       43\n",
              "타이어일반               400    400          400       400      398\n",
              "후방카메라               108    108          108       108      108\n",
              "후패드                  62     62           62        62       58"
            ]
          },
          "metadata": {},
          "execution_count": 35
        }
      ]
    },
    {
      "cell_type": "code",
      "metadata": {
        "id": "Wc9nTntaNVjv"
      },
      "source": [
        "data = df.copy()"
      ],
      "execution_count": 36,
      "outputs": []
    },
    {
      "cell_type": "code",
      "metadata": {
        "id": "5OeiCNV6OhHJ"
      },
      "source": [
        "from collections import Counter\n",
        "\n",
        "\n",
        "def common_labels(df):\n",
        "    label_list=[]\n",
        "    for row  in df['labeled']:\n",
        "        try:\n",
        "            label_list.extend(row)\n",
        "        except:\n",
        "            pass\n",
        "    \n",
        "    cnt = Counter(label_list)\n",
        "    return cnt.most_common(2000)"
      ],
      "execution_count": 37,
      "outputs": []
    },
    {
      "cell_type": "code",
      "metadata": {
        "id": "pET1ZWAOOEri"
      },
      "source": [
        "freq = data.groupby(by='inspect_type').apply(common_labels)#.to_frame(name='freq_labels')"
      ],
      "execution_count": 38,
      "outputs": []
    },
    {
      "cell_type": "markdown",
      "metadata": {
        "id": "qo-rNhhIR7J_"
      },
      "source": [
        "# Use tokenized labels"
      ]
    },
    {
      "cell_type": "code",
      "metadata": {
        "id": "YC2rKOM2LEgK"
      },
      "source": [
        "import pickle\n",
        "\n",
        "with open('/content/drive/MyDrive/정비메모분석/data/tokenization_dict.pickle', 'rb') as f:\n",
        "    tokenization_dic = pickle.load(f)\n"
      ],
      "execution_count": 39,
      "outputs": []
    },
    {
      "cell_type": "code",
      "metadata": {
        "id": "_LTW3l6vxGBK"
      },
      "source": [
        "import re\n",
        "\n",
        "\n",
        "def split_non_korean_word(s):\n",
        "    si = 0\n",
        "    for _ in range(100): # while로 해도 되지만 에러시 무한루프 방지\n",
        "        match = re.search('[^가-힣]+', s[si:])\n",
        "        if not match:\n",
        "            break\n",
        "\n",
        "        ei = si + match.end()\n",
        "        si += match.start()\n",
        "\n",
        "        s = s[:si] + f' {s[si:ei]} ' + s[ei:]\n",
        "        si = ei + 2\n",
        "    return s"
      ],
      "execution_count": 40,
      "outputs": []
    },
    {
      "cell_type": "code",
      "metadata": {
        "id": "Gjf87m8-xTXb"
      },
      "source": [
        "def tokenize_sentences(sentences):\n",
        "    if sentences is None:\n",
        "        return None\n",
        "    if not isinstance(sentences, list):\n",
        "        sentences = [sentences]\n",
        "\n",
        "    result = []\n",
        "\n",
        "    for s in sentences:\n",
        "        s = split_non_korean_word(s)\n",
        "\n",
        "        line = []\n",
        "        for word in s.split():\n",
        "            if bool(re.search('[^가-힣]', word)):\n",
        "                line.append(word)\n",
        "            else:\n",
        "                try:\n",
        "                    tokens = min(tokenization_dic[word], key=lambda x: len(x))\n",
        "                    line.extend(tokens)\n",
        "                except:\n",
        "                    pass\n",
        "        \n",
        "        result.append(' '.join(line))\n",
        "    \n",
        "    return result"
      ],
      "execution_count": 41,
      "outputs": []
    },
    {
      "cell_type": "code",
      "metadata": {
        "id": "teIUXlfQSoBl"
      },
      "source": [
        "data['tokenized_labels'] = data['labeled'].apply(tokenize_sentences)"
      ],
      "execution_count": 42,
      "outputs": []
    },
    {
      "cell_type": "code",
      "metadata": {
        "colab": {
          "base_uri": "https://localhost:8080/"
        },
        "id": "9JJs_pPtTfqV",
        "outputId": "0656d3db-24a3-4cd8-b618-5880efcd3a02"
      },
      "source": [
        "data['labeled']"
      ],
      "execution_count": 43,
      "outputs": [
        {
          "output_type": "execute_result",
          "data": {
            "text/plain": [
              "0                                 [CM 배선 수리, 도어 액츄레이터 탈부착]\n",
              "4                                                     [플랜]\n",
              "7                                                     None\n",
              "13                                                [디스크 교환]\n",
              "19                                         [우측 전패드 교환, 사고]\n",
              "                               ...                        \n",
              "99146    [후방카메라 고장, 후방카메라 작동불가, 후방센서 정상작동, VOC 요청, 장애블락...\n",
              "99158          [등, 하이패스 카드분실, 하이패스 카드 확인완료, 재연결 정상작동 확인완료]\n",
              "99162                                       [보조브레이크 전구 교환]\n",
              "99167                      [차량 확인 했으나 시동 불가 수행 불가, VOC 요청]\n",
              "99176             [올뉴, TX, 후방카메라고장, 후방카메라 작동안함, VOC 수리 요청]\n",
              "Name: labeled, Length: 12910, dtype: object"
            ]
          },
          "metadata": {},
          "execution_count": 43
        }
      ]
    },
    {
      "cell_type": "markdown",
      "metadata": {
        "id": "ZsdqjRKsPavp"
      },
      "source": [
        "# de-tokenize\n"
      ]
    },
    {
      "cell_type": "code",
      "metadata": {
        "id": "Uuv5uUIaP21y"
      },
      "source": [
        "import pickle\n",
        "\n",
        "with open('/content/drive/MyDrive/정비메모분석/data/tokenization_dict.pickle', 'rb') as f:\n",
        "    tokenization_dic = pickle.load(f)"
      ],
      "execution_count": 44,
      "outputs": []
    },
    {
      "cell_type": "code",
      "metadata": {
        "colab": {
          "base_uri": "https://localhost:8080/"
        },
        "id": "pu_dQ2p8zUlW",
        "outputId": "8cf43066-98ad-41b1-d3a1-8f4a7bb32f2a"
      },
      "source": [
        "with open('/content/drive/MyDrive/정비메모분석/data/labels/labels_21179.txt', 'r') as f:\n",
        "    labels = f.read().split('\\n')\n",
        "\n",
        "len(labels)"
      ],
      "execution_count": 45,
      "outputs": [
        {
          "output_type": "execute_result",
          "data": {
            "text/plain": [
              "21174"
            ]
          },
          "metadata": {},
          "execution_count": 45
        }
      ]
    },
    {
      "cell_type": "code",
      "metadata": {
        "colab": {
          "base_uri": "https://localhost:8080/"
        },
        "id": "Y5rh-uU9zzet",
        "outputId": "fef75a46-7365-4c18-e71a-b1a4c388277b"
      },
      "source": [
        "labelset = list(set(labels))\n",
        "len(labelset)"
      ],
      "execution_count": 46,
      "outputs": [
        {
          "output_type": "execute_result",
          "data": {
            "text/plain": [
              "9606"
            ]
          },
          "metadata": {},
          "execution_count": 46
        }
      ]
    },
    {
      "cell_type": "code",
      "metadata": {
        "colab": {
          "base_uri": "https://localhost:8080/"
        },
        "id": "KZdVcqxz0Ksq",
        "outputId": "c637f3cd-9bf5-4dcc-c847-11950d51f900"
      },
      "source": [
        "tokenized_labels = tokenize_sentences(labels)\n",
        "len(tokenized_labels)"
      ],
      "execution_count": 47,
      "outputs": [
        {
          "output_type": "execute_result",
          "data": {
            "text/plain": [
              "21174"
            ]
          },
          "metadata": {},
          "execution_count": 47
        }
      ]
    },
    {
      "cell_type": "code",
      "metadata": {
        "colab": {
          "base_uri": "https://localhost:8080/"
        },
        "id": "KQB6Inx10lX1",
        "outputId": "af7169f8-7787-48cb-be47-f3339d691b9b"
      },
      "source": [
        "tokenized_labelset = list(set(tokenized_labels))\n",
        "len(tokenized_labelset)"
      ],
      "execution_count": 48,
      "outputs": [
        {
          "output_type": "execute_result",
          "data": {
            "text/plain": [
              "9149"
            ]
          },
          "metadata": {},
          "execution_count": 48
        }
      ]
    },
    {
      "cell_type": "code",
      "metadata": {
        "colab": {
          "base_uri": "https://localhost:8080/"
        },
        "id": "WiHJRhuqTJHV",
        "outputId": "bfbc974f-77b2-4d1b-9654-3116209fcea8"
      },
      "source": [
        "nouns = set()\n",
        "\n",
        "for tokens_list in tokenization_dic.values():\n",
        "    for tokens in tokens_list:\n",
        "        nouns.update(tokens)\n",
        "\n",
        "len(nouns)"
      ],
      "execution_count": 49,
      "outputs": [
        {
          "output_type": "execute_result",
          "data": {
            "text/plain": [
              "4807"
            ]
          },
          "metadata": {},
          "execution_count": 49
        }
      ]
    },
    {
      "cell_type": "code",
      "metadata": {
        "colab": {
          "base_uri": "https://localhost:8080/"
        },
        "id": "q-nD2PpqUIM2",
        "outputId": "78e5ad39-0889-43f2-be62-6d5b4fa63d40"
      },
      "source": [
        "nouns = set([x for x in nouns if len(x) > 1])\n",
        "len(nouns)"
      ],
      "execution_count": 50,
      "outputs": [
        {
          "output_type": "execute_result",
          "data": {
            "text/plain": [
              "4574"
            ]
          },
          "metadata": {},
          "execution_count": 50
        }
      ]
    },
    {
      "cell_type": "code",
      "metadata": {
        "colab": {
          "base_uri": "https://localhost:8080/"
        },
        "id": "i7CgMWM7Uc8_",
        "outputId": "06a9a8d5-028f-4f54-920d-8db500ad9132"
      },
      "source": [
        "nouns"
      ],
      "execution_count": 51,
      "outputs": [
        {
          "output_type": "execute_result",
          "data": {
            "text/plain": [
              "{'담뱃재',\n",
              " '사출',\n",
              " '기계로',\n",
              " '플로우',\n",
              " '전방센서',\n",
              " '흡기센서',\n",
              " '브레이크점검',\n",
              " '용량부족',\n",
              " '바깥쪽으로',\n",
              " '이동조치',\n",
              " '유건',\n",
              " '업체',\n",
              " '오지',\n",
              " '타이',\n",
              " '택배발송',\n",
              " '접수요청',\n",
              " '양쪽',\n",
              " '미러',\n",
              " '호기',\n",
              " '보여짐',\n",
              " '틀바디',\n",
              " '시동걸어둠',\n",
              " '파란색',\n",
              " '구역',\n",
              " '전원단자',\n",
              " '보임',\n",
              " '기간',\n",
              " '첨가',\n",
              " '키제작',\n",
              " '재방문필요',\n",
              " '하네스',\n",
              " '전원이',\n",
              " '블로워',\n",
              " '김해고등학교',\n",
              " '작동이',\n",
              " '오일팬',\n",
              " '제동등',\n",
              " '시동지연',\n",
              " '조회결과',\n",
              " '이탈',\n",
              " '스텝',\n",
              " '하부점검',\n",
              " '적산',\n",
              " '문경',\n",
              " '블루투스오디오',\n",
              " '접수',\n",
              " '로우피치',\n",
              " '양쪽모두',\n",
              " '자리',\n",
              " '이마트',\n",
              " '주변',\n",
              " '시일',\n",
              " '구입',\n",
              " '리저브탱크',\n",
              " '대량',\n",
              " '풀림',\n",
              " '클리너',\n",
              " '번데기',\n",
              " '전원배선',\n",
              " '조사각',\n",
              " '키로수',\n",
              " '내비게이션이',\n",
              " '택배',\n",
              " '원쏘카존',\n",
              " '터치후',\n",
              " '외엔',\n",
              " '내장',\n",
              " '봉인볼트',\n",
              " '점화',\n",
              " '문수고',\n",
              " '긴급세차',\n",
              " '여러번',\n",
              " '선바이저',\n",
              " '출구',\n",
              " '태서',\n",
              " '전파',\n",
              " '시리즈',\n",
              " '다기통',\n",
              " '급현대공업사종합정비',\n",
              " '크리닝',\n",
              " '체결완료',\n",
              " '작동불가',\n",
              " '오일리셋',\n",
              " '동진여중',\n",
              " '편도',\n",
              " '메인스위치',\n",
              " '스위치어셈블리',\n",
              " '카바',\n",
              " '이화면',\n",
              " '미세',\n",
              " '접촉',\n",
              " '가드어셈블리',\n",
              " '적이',\n",
              " '전조등',\n",
              " '도장면',\n",
              " '목록',\n",
              " '네비거치대',\n",
              " '점검하',\n",
              " '네비게이션고장',\n",
              " '쪽으로',\n",
              " '운전시',\n",
              " '이상',\n",
              " '회수완료',\n",
              " '전판넬',\n",
              " '노즐청소',\n",
              " '층으로',\n",
              " '엔진오일',\n",
              " '전량',\n",
              " '사무실발송',\n",
              " '수리품',\n",
              " '쉐보레사상서비스센터',\n",
              " '재시작',\n",
              " '승인사항',\n",
              " '전면부',\n",
              " '무한로딩',\n",
              " '머플러',\n",
              " '소캣',\n",
              " '점검해',\n",
              " '설정후',\n",
              " '쏘렌토',\n",
              " '배색더블',\n",
              " '증기',\n",
              " '새한현대서비스',\n",
              " '진행시',\n",
              " '상한',\n",
              " '최종',\n",
              " '기능',\n",
              " '운행소음',\n",
              " '타이어공기압',\n",
              " '동서울직영',\n",
              " '요소수보충',\n",
              " '패스',\n",
              " '어시스',\n",
              " '탈착',\n",
              " '시동걸때',\n",
              " '급출발',\n",
              " '현재',\n",
              " '해당업체',\n",
              " '음영구역',\n",
              " '챠저',\n",
              " '매립시',\n",
              " '과다로',\n",
              " '밀양역',\n",
              " '바캠',\n",
              " '로딩화면에서',\n",
              " '악취',\n",
              " '반납불가',\n",
              " '저하',\n",
              " '생각됨',\n",
              " '공기빼기',\n",
              " '안동카센터',\n",
              " '파손부위',\n",
              " '범퍼탈부',\n",
              " '리콜',\n",
              " '추천',\n",
              " '작동범위',\n",
              " '네비게이션스피커',\n",
              " '스캔',\n",
              " '라이트잭',\n",
              " '손으로',\n",
              " '방문',\n",
              " '소거후',\n",
              " '분사',\n",
              " '브레이크오일',\n",
              " '라인이',\n",
              " '작업가능',\n",
              " '급공업사',\n",
              " '승일자동차',\n",
              " '캐치',\n",
              " '하이드로',\n",
              " '전카드',\n",
              " '분리',\n",
              " '부산부기산업',\n",
              " '오프너',\n",
              " '스티프너',\n",
              " '가스켓',\n",
              " '이들',\n",
              " '스트',\n",
              " '범퍼쪽',\n",
              " '기억',\n",
              " '전방추돌',\n",
              " '주행',\n",
              " '분이상',\n",
              " '응답',\n",
              " '내용',\n",
              " '등등',\n",
              " '연동',\n",
              " '임비',\n",
              " '소거',\n",
              " '전파방해',\n",
              " '크루',\n",
              " '드라이브',\n",
              " '소손',\n",
              " '배출가스',\n",
              " '르노삼성자동차',\n",
              " '차비',\n",
              " '열선스위치',\n",
              " '재전원',\n",
              " '마산시외',\n",
              " '끼임',\n",
              " '아웃사이드',\n",
              " '불안정성',\n",
              " '손상부위',\n",
              " '여분',\n",
              " '내비게이션고장',\n",
              " '약간',\n",
              " '급유',\n",
              " '전환',\n",
              " '열리지',\n",
              " '진단기사용',\n",
              " '코드',\n",
              " '클럭스프링',\n",
              " '필러',\n",
              " '하라',\n",
              " '매트',\n",
              " '지속',\n",
              " '케이블어셈블리',\n",
              " '정상승인',\n",
              " '응급처치',\n",
              " '광일자동차',\n",
              " '번출구',\n",
              " '후드브라켓',\n",
              " '촉매시스템',\n",
              " '눌림',\n",
              " '동일',\n",
              " '일산해수욕장',\n",
              " '안민가',\n",
              " '신품',\n",
              " '휀더',\n",
              " '안함',\n",
              " '자재미보유',\n",
              " '요금',\n",
              " '카수리',\n",
              " '역삼동',\n",
              " '워셔탱크',\n",
              " '정상',\n",
              " '점프스타터',\n",
              " '미인',\n",
              " '르노삼성',\n",
              " '부족',\n",
              " '성동',\n",
              " '노후',\n",
              " '시동불량',\n",
              " '카메라',\n",
              " '유리교환',\n",
              " '멀티미디어',\n",
              " '모타',\n",
              " '전방충돌감지',\n",
              " '컨넥',\n",
              " '복귀요청',\n",
              " '정보',\n",
              " '물빼기',\n",
              " '동물과',\n",
              " '동래',\n",
              " '콘솔박스',\n",
              " '마찰음',\n",
              " '중앙쪽으로',\n",
              " '고정핀',\n",
              " '익스텐션',\n",
              " '촬영완료',\n",
              " '상시',\n",
              " '오이오',\n",
              " '아웃',\n",
              " '막스',\n",
              " '여부',\n",
              " '서면서비스',\n",
              " '미션',\n",
              " '된장',\n",
              " '터미널',\n",
              " '태화로터리',\n",
              " '나주',\n",
              " '하니',\n",
              " '주식회사',\n",
              " '작동기',\n",
              " '브레이',\n",
              " '입력',\n",
              " '리스',\n",
              " '제일카클리닉',\n",
              " '테프만',\n",
              " '셋팅',\n",
              " '안으로',\n",
              " '블랙박스',\n",
              " '종로구',\n",
              " '나사로',\n",
              " '로틀',\n",
              " '구리스',\n",
              " '에어크리너',\n",
              " '대기압',\n",
              " '고속주행중',\n",
              " '음식물',\n",
              " '검사',\n",
              " '유심',\n",
              " '교체필요',\n",
              " '타이어펑크',\n",
              " '드라이브벨트',\n",
              " '앞뒷문',\n",
              " '예민',\n",
              " '화연',\n",
              " '경고등',\n",
              " '불가',\n",
              " '림재',\n",
              " '상이',\n",
              " '정상체결',\n",
              " '롯데백화점',\n",
              " '휴즈',\n",
              " '브레이크페달',\n",
              " '회수후',\n",
              " '견인요청',\n",
              " '저드',\n",
              " '이상무',\n",
              " '감마엔진',\n",
              " '일캡',\n",
              " '토사물',\n",
              " '딜레이',\n",
              " '은상',\n",
              " '블락비',\n",
              " '대기',\n",
              " '범퍼탈부착',\n",
              " '관리인분',\n",
              " '삼진공업사',\n",
              " '안맞아서',\n",
              " '마무리',\n",
              " '접지부분',\n",
              " '이천',\n",
              " '쉐보레금천',\n",
              " '반응',\n",
              " '주차스티커',\n",
              " '통신에러',\n",
              " '재입력',\n",
              " '이상이',\n",
              " '사계절용',\n",
              " '엔진체크등',\n",
              " '미결제',\n",
              " '반파',\n",
              " '톨비',\n",
              " '긴급요청',\n",
              " '출발',\n",
              " '창원역',\n",
              " '썬팅지',\n",
              " '맞춤',\n",
              " '자재',\n",
              " '바깥',\n",
              " '르노',\n",
              " '본인',\n",
              " '우체',\n",
              " '중복',\n",
              " '눌린다함',\n",
              " '트림',\n",
              " '처리시',\n",
              " '플라스틱캡',\n",
              " '휠손상',\n",
              " '윈도우스위치',\n",
              " '로어암',\n",
              " '어셈블리',\n",
              " '팔걸이',\n",
              " '오염',\n",
              " '필터',\n",
              " '처리완료',\n",
              " '세워줌',\n",
              " '사운드',\n",
              " '출력방법',\n",
              " '이중주차로',\n",
              " '전쳬',\n",
              " '정위치',\n",
              " '최상',\n",
              " '고정후',\n",
              " '소켓',\n",
              " '잘됨',\n",
              " '쪽잭',\n",
              " '사상',\n",
              " '점검문구',\n",
              " '동서울직영서비스센터',\n",
              " '업그레이드',\n",
              " '커넥트',\n",
              " '여러가지',\n",
              " '속도센서',\n",
              " '주차빌딩',\n",
              " '저녁',\n",
              " '에어콘',\n",
              " '비상등',\n",
              " '언더',\n",
              " '당일',\n",
              " '실행불가',\n",
              " '텐셔너',\n",
              " '배선',\n",
              " '완전분해',\n",
              " '전패드',\n",
              " '정차',\n",
              " '중앙역',\n",
              " '우선',\n",
              " '동서울',\n",
              " '공차',\n",
              " '공기압관련',\n",
              " '정상연결',\n",
              " '비탈착식',\n",
              " '센서어셈블리',\n",
              " '말리부',\n",
              " '업그레이트밍',\n",
              " '핸들리모컨',\n",
              " '클럭',\n",
              " '뺀뒤',\n",
              " '트랜스폼',\n",
              " '조절레버',\n",
              " '시험',\n",
              " '휠속도',\n",
              " '레노이드',\n",
              " '긴급출동',\n",
              " '차감',\n",
              " '콘솔',\n",
              " '시내',\n",
              " '대쪽',\n",
              " '충전',\n",
              " '충진',\n",
              " '터치업',\n",
              " '좌측제동등',\n",
              " '섭외',\n",
              " '제한',\n",
              " '해제되고',\n",
              " '워셔액통앗세이교환',\n",
              " '증발가스',\n",
              " '메시지',\n",
              " '긁힘',\n",
              " '싱글전구',\n",
              " '테잎',\n",
              " '점검해봐야',\n",
              " '대륙시트',\n",
              " '사이트',\n",
              " '워터',\n",
              " '보조브레이크',\n",
              " '주유완료',\n",
              " '빌라이',\n",
              " '오매칭',\n",
              " '액정',\n",
              " '액추에이',\n",
              " '다른곳에',\n",
              " '기어봉',\n",
              " '공유',\n",
              " '광주사무실',\n",
              " '뒷도어',\n",
              " '제일카',\n",
              " '올뉴모닝',\n",
              " '그릴',\n",
              " '한타',\n",
              " '긴급건',\n",
              " '퓨즈',\n",
              " '우후',\n",
              " '교체완료',\n",
              " '인식안됨',\n",
              " '재접속후',\n",
              " '랙박스',\n",
              " '차량내',\n",
              " '익일',\n",
              " '고정부분',\n",
              " '운행',\n",
              " '크래쉬',\n",
              " '조작',\n",
              " '적산거리',\n",
              " '전원잭',\n",
              " '이내',\n",
              " '폐기물',\n",
              " '안양',\n",
              " '벨로스터',\n",
              " '다음',\n",
              " '파워윈도우',\n",
              " '순정품',\n",
              " '교정',\n",
              " '러기지',\n",
              " '후보충',\n",
              " '라이트전구',\n",
              " '재시도',\n",
              " '브라켓',\n",
              " '실내등교체',\n",
              " '미션오일',\n",
              " '플리트',\n",
              " '매니폴드',\n",
              " '상하반전',\n",
              " '척후',\n",
              " '오일필터',\n",
              " '작동되어',\n",
              " '순간순간',\n",
              " '요거트냄새',\n",
              " '재접',\n",
              " '점검결과',\n",
              " '주차시',\n",
              " '워시',\n",
              " '배선불량',\n",
              " '확인불가',\n",
              " '시에도',\n",
              " '비조치',\n",
              " '휠가드',\n",
              " '낡음',\n",
              " '재방전',\n",
              " '롯데리아',\n",
              " '구토',\n",
              " '처치',\n",
              " '눌리고',\n",
              " '바퀴',\n",
              " '시동후',\n",
              " '밸런스',\n",
              " '조인트',\n",
              " '지역',\n",
              " '에러',\n",
              " '납땜',\n",
              " '뒤에',\n",
              " '쏘카존',\n",
              " '이동하라는',\n",
              " '첸지',\n",
              " '잘못연',\n",
              " '출력됩니다',\n",
              " '휠타이어',\n",
              " '스톤칩',\n",
              " '눌리',\n",
              " '중에서',\n",
              " '설정오류',\n",
              " '스트롤바디',\n",
              " '정상운행',\n",
              " '없으므',\n",
              " '파손흔적',\n",
              " '성능',\n",
              " '더블클러치',\n",
              " '당진',\n",
              " '팔달서비스프라자',\n",
              " '초기화해도',\n",
              " '대못',\n",
              " '에어컨필터',\n",
              " '금남자동차공업사',\n",
              " '교체후정상',\n",
              " '후륜',\n",
              " '내에',\n",
              " '유입',\n",
              " '락수리',\n",
              " '워머',\n",
              " '새척후',\n",
              " '영등포',\n",
              " '신규',\n",
              " '오일계통',\n",
              " '접지',\n",
              " '스피드메이트',\n",
              " '캠샤프트위치과다',\n",
              " '주입완료',\n",
              " '발생시',\n",
              " '열목',\n",
              " '트립',\n",
              " '크랙',\n",
              " '점검비용',\n",
              " '타이어공기주입구',\n",
              " '앞판넬',\n",
              " '부팅불가',\n",
              " '절상',\n",
              " '불량문제',\n",
              " '전혀',\n",
              " '탁송기사',\n",
              " '확인해',\n",
              " '카드가',\n",
              " '요망',\n",
              " '유기',\n",
              " '흙탕물',\n",
              " '조우석',\n",
              " '블랙박스전원',\n",
              " '아마',\n",
              " '플레이어',\n",
              " '점멸등',\n",
              " '항목',\n",
              " '대량누설발생',\n",
              " '충전소',\n",
              " '이진',\n",
              " '확인함',\n",
              " '청소기',\n",
              " '자동차공업사',\n",
              " '후석',\n",
              " '분진가루',\n",
              " '전에',\n",
              " '재현',\n",
              " '이렁',\n",
              " '점등',\n",
              " '진입시',\n",
              " '불가능',\n",
              " '물건',\n",
              " '구형',\n",
              " '상사',\n",
              " '고앵',\n",
              " '위치변경',\n",
              " '백색',\n",
              " '세차진행',\n",
              " '앞패드',\n",
              " '반도',\n",
              " '신규설치',\n",
              " '파쇄석',\n",
              " '회로판',\n",
              " '점검요청',\n",
              " '보증',\n",
              " '소프트웨어',\n",
              " '부동액보충',\n",
              " '쉴드',\n",
              " '워셔액탱크',\n",
              " '성공',\n",
              " '작동미숙',\n",
              " '메가',\n",
              " '일반수리',\n",
              " '백색싱글',\n",
              " '쓰기',\n",
              " '엠엔에스',\n",
              " '창원서비스센터',\n",
              " '주차구역',\n",
              " '떨링',\n",
              " '장기차',\n",
              " '내외부',\n",
              " '트렁크오픈',\n",
              " '시동불능',\n",
              " '앞도어',\n",
              " '유동저항이상',\n",
              " '그리스',\n",
              " '부조',\n",
              " '델코',\n",
              " '재작업',\n",
              " '창문',\n",
              " '블락',\n",
              " '개폐여부',\n",
              " '휠볼트',\n",
              " '로워',\n",
              " '충전완료',\n",
              " '시동불가',\n",
              " '한나라',\n",
              " '오송',\n",
              " '양호하',\n",
              " '누설',\n",
              " '백색더블전구',\n",
              " '네비전원잭',\n",
              " '분유지',\n",
              " '출입구',\n",
              " '뒷쪽에서도',\n",
              " '연료탱크',\n",
              " '레벨인디케이터',\n",
              " '워셔액',\n",
              " '인치이상',\n",
              " '상향',\n",
              " '보불',\n",
              " '원스탑',\n",
              " '미인식',\n",
              " '서비스시기',\n",
              " '약간의',\n",
              " '조수석',\n",
              " '결빙',\n",
              " '이관',\n",
              " '타이어펑크수리',\n",
              " '좌측',\n",
              " '선제조치',\n",
              " '울트라소닉',\n",
              " '키드',\n",
              " '점검',\n",
              " '시엔',\n",
              " '매칭',\n",
              " '양호하나',\n",
              " '팝업',\n",
              " '육안',\n",
              " '덮개',\n",
              " '정기업무',\n",
              " '작동상태',\n",
              " '중지',\n",
              " '기아자동차',\n",
              " '컨트롤모듈',\n",
              " '생건',\n",
              " '정상수리',\n",
              " '정도',\n",
              " '쇼바교환',\n",
              " '출장',\n",
              " '분진',\n",
              " '롯데',\n",
              " '뭔가',\n",
              " '브레이크패드',\n",
              " '쏘카측',\n",
              " '주차시엔',\n",
              " '점검하라고',\n",
              " '썬루프레일',\n",
              " '스피드센서',\n",
              " '실내퓨즈박스',\n",
              " '아이폰',\n",
              " '썬가드',\n",
              " '미쉐린',\n",
              " '고정너트',\n",
              " '서일자동차정비',\n",
              " '재설치',\n",
              " '강남서비스센터',\n",
              " '웨어',\n",
              " '리콜수리',\n",
              " '열람',\n",
              " '존내',\n",
              " '과주입',\n",
              " '크레탐',\n",
              " '변경되고',\n",
              " '스위치배선',\n",
              " '후진등',\n",
              " '건간',\n",
              " '리즈',\n",
              " '노즈',\n",
              " '천장',\n",
              " '매스',\n",
              " '저장',\n",
              " '장애인',\n",
              " '밝기',\n",
              " '강제구동',\n",
              " '작업이후',\n",
              " '히터호스',\n",
              " '비게이션',\n",
              " '유지할',\n",
              " '리플렉터',\n",
              " '정상작',\n",
              " '보유',\n",
              " '스톱',\n",
              " '단차',\n",
              " '그외',\n",
              " '거치',\n",
              " '미약',\n",
              " '방향제통으로',\n",
              " '발판수리',\n",
              " '와피',\n",
              " '이동비용',\n",
              " '룸미러',\n",
              " '풀로',\n",
              " '스타터',\n",
              " '통과',\n",
              " '재시동',\n",
              " '운전석족',\n",
              " '탈부착공임',\n",
              " '환기',\n",
              " '출력자체가',\n",
              " '플랜',\n",
              " '제네레',\n",
              " '표시되는',\n",
              " '리고',\n",
              " '바퀴창고',\n",
              " '시트벨트',\n",
              " '진흙오염',\n",
              " '뒤범퍼',\n",
              " '나머지',\n",
              " '간섭',\n",
              " '후측방',\n",
              " '등화',\n",
              " '이동시켜',\n",
              " '인입',\n",
              " '제천',\n",
              " '전방카메라',\n",
              " '레조네이터',\n",
              " '사상서비스센터',\n",
              " '세팅작업',\n",
              " '접속불량',\n",
              " '오입력',\n",
              " '임시고정',\n",
              " '사계절',\n",
              " '스커',\n",
              " '배기',\n",
              " '박스',\n",
              " '일반',\n",
              " '바닥매트',\n",
              " '조정완료',\n",
              " '하단버튼',\n",
              " '동영',\n",
              " '차량통행',\n",
              " '제작사',\n",
              " '상부교체',\n",
              " '후방등',\n",
              " '후범퍼',\n",
              " '제어',\n",
              " '촬영',\n",
              " '젠더',\n",
              " '미미',\n",
              " '리셋완료',\n",
              " '먹통',\n",
              " '로틀바디',\n",
              " '물통',\n",
              " '휀다',\n",
              " '바닥',\n",
              " '유리창',\n",
              " '우측핸들',\n",
              " '광주',\n",
              " '컵홀더',\n",
              " '기종',\n",
              " '열람불가',\n",
              " '여러차례',\n",
              " '음량',\n",
              " '안들어옴',\n",
              " '사용중이라고',\n",
              " '도어트림',\n",
              " '쏘카',\n",
              " '자리이탈',\n",
              " '외장',\n",
              " '카드방향',\n",
              " '미점',\n",
              " '오염제거',\n",
              " '플라스틱',\n",
              " '베어링',\n",
              " '화장품',\n",
              " '언덕에',\n",
              " '도어',\n",
              " '과다주입',\n",
              " '발송예정',\n",
              " '휠하우스커버',\n",
              " '완화',\n",
              " '종고',\n",
              " '슬립',\n",
              " '클릭하면',\n",
              " '후면유리교환',\n",
              " '접착부분',\n",
              " '회수요청',\n",
              " '파워아웃렛',\n",
              " '원래',\n",
              " '만도',\n",
              " '차고지',\n",
              " '장애',\n",
              " '와이퍼교환',\n",
              " '방지모듈',\n",
              " '뒤로',\n",
              " '사이더',\n",
              " '설정',\n",
              " '시도중에',\n",
              " '리모',\n",
              " '관리팀',\n",
              " '캐털',\n",
              " '시동계통',\n",
              " '전후방센서',\n",
              " '점검하니',\n",
              " '영점조절',\n",
              " '접착',\n",
              " '배터리교체',\n",
              " '자동차유리',\n",
              " '아이콘',\n",
              " '운전석뒤',\n",
              " '터보차저',\n",
              " '연료통',\n",
              " '사무실',\n",
              " '이화면뜨',\n",
              " '토션빔',\n",
              " '개털',\n",
              " '수리비',\n",
              " '모뎀',\n",
              " '영수증',\n",
              " '라디',\n",
              " '외부세차',\n",
              " '특근',\n",
              " '장착되',\n",
              " '백판넬',\n",
              " '조절할',\n",
              " '안동',\n",
              " '작업중',\n",
              " '리저버',\n",
              " '잔량',\n",
              " '공회전',\n",
              " '위치조정',\n",
              " '점프했던',\n",
              " '초기세팅',\n",
              " '로워암',\n",
              " '열선배선',\n",
              " '보조번호판',\n",
              " '땜처리',\n",
              " '재삽입',\n",
              " '외주',\n",
              " '량부족',\n",
              " '초등학교',\n",
              " '하부',\n",
              " '손잡이',\n",
              " '창문쪽에서',\n",
              " '호텔인터내셔널',\n",
              " '다이얼',\n",
              " '재점등',\n",
              " '실시',\n",
              " '자제',\n",
              " '촉매정화능력',\n",
              " '순천서비스',\n",
              " '캡교환',\n",
              " '현대카드',\n",
              " '유류',\n",
              " '제네',\n",
              " '지등',\n",
              " '크래쉬패드',\n",
              " '제조사',\n",
              " '주유구캡',\n",
              " '흡기크리닝',\n",
              " '발판쪽',\n",
              " '쿨링',\n",
              " '준비중',\n",
              " '나중에',\n",
              " '후방젠더',\n",
              " '밸브',\n",
              " '베어링포함',\n",
              " '글래스런',\n",
              " '브레이크',\n",
              " '수리자리',\n",
              " '분에',\n",
              " '우쥬',\n",
              " '페어링',\n",
              " '과거형',\n",
              " '성수사업소',\n",
              " '확보',\n",
              " '급발진',\n",
              " '화로',\n",
              " '레비',\n",
              " '론트',\n",
              " '등화관제등',\n",
              " '로만',\n",
              " '스커프',\n",
              " '현대',\n",
              " '불가건',\n",
              " '특성상',\n",
              " '미보유',\n",
              " '고정',\n",
              " '금호전광',\n",
              " '배선연결된',\n",
              " '달동우체국',\n",
              " '브레이크등',\n",
              " '직영',\n",
              " '시운전도중',\n",
              " '통화전환',\n",
              " '네비게',\n",
              " '플러그',\n",
              " '운영상태',\n",
              " '압력센서',\n",
              " '전범퍼',\n",
              " '통화',\n",
              " '업체요청',\n",
              " '디스플레이',\n",
              " '개입',\n",
              " '통신관련',\n",
              " '스포트',\n",
              " '제거완료',\n",
              " '내케',\n",
              " '정속',\n",
              " '라디오',\n",
              " '매립형',\n",
              " '맵센서',\n",
              " '수수료',\n",
              " '스키너',\n",
              " '마산역',\n",
              " '휴즈포함',\n",
              " '동아산현대서비스',\n",
              " '보조주행등',\n",
              " '정지',\n",
              " '음성',\n",
              " '날씨',\n",
              " '드럼',\n",
              " '신설',\n",
              " '등화관제',\n",
              " '밴드',\n",
              " '공유드림',\n",
              " '엔젤',\n",
              " '캠샤프트',\n",
              " '포크',\n",
              " '진행해도',\n",
              " '몰딩',\n",
              " '전후방',\n",
              " '아이들베어링',\n",
              " '봉황',\n",
              " '패드',\n",
              " '호수가',\n",
              " '차단',\n",
              " '수거완료',\n",
              " '인테이크',\n",
              " '보드로',\n",
              " '핀조정',\n",
              " '밑작업',\n",
              " '공급',\n",
              " '코크',\n",
              " '즉시',\n",
              " '새카드',\n",
              " '스티커',\n",
              " '글로브',\n",
              " '조향각',\n",
              " '로어',\n",
              " '빅데이터',\n",
              " '대창기업',\n",
              " '자동차키',\n",
              " '수행',\n",
              " '듀얼',\n",
              " '방전',\n",
              " '긴급출동서비스',\n",
              " '수리불가',\n",
              " '실물',\n",
              " '주변부',\n",
              " '유리교체',\n",
              " '상단',\n",
              " '공기압체크',\n",
              " '시스템이상',\n",
              " '오버',\n",
              " '외관파손',\n",
              " '차키',\n",
              " '서비스센터',\n",
              " '퓨즈커넥터',\n",
              " '파워모듈',\n",
              " '센터',\n",
              " '서전주서비스',\n",
              " '휴즈단선',\n",
              " '김해율하점',\n",
              " '신규장착',\n",
              " '캠축',\n",
              " '분실물',\n",
              " '이션',\n",
              " '전방레이더',\n",
              " '점검후',\n",
              " '대리점',\n",
              " '뮤트',\n",
              " '시동걸기',\n",
              " ...}"
            ]
          },
          "metadata": {},
          "execution_count": 51
        }
      ]
    },
    {
      "cell_type": "code",
      "metadata": {
        "id": "UpgT8bqBU3Bl"
      },
      "source": [
        "def detokenize(tokens, nouns):\n",
        "    '''\n",
        "    tokens : split된 word 리스트\n",
        "    nouns : 합쳐서 존재할 수 있는 단어들\n",
        "    유니그램을 이용해서 단어장(nouns)에 존재한다면 단어를 합치게만듬.\n",
        "    주의할 점 : '브레이크 이상, 미션 오일 교환' -> '브레이크 오일 교환' 으로 요약 후\n",
        "    사용하면 '브레이크오일 교환' 이런식으로 잘못 합쳐질 수 있음\n",
        "    '''\n",
        "    num_tokens = len(tokens)\n",
        "    max_idx = num_tokens - 1\n",
        "    i = 0\n",
        "    while max_idx > i:\n",
        "        combo = tokens[i] + tokens[i+1]\n",
        "        if combo in nouns:\n",
        "            is_changed = True\n",
        "            tokens[i:i+2] = [combo]\n",
        "            max_idx -= 1\n",
        "        i += 1\n",
        "\n",
        "    if num_tokens-1 != max_idx: # is_changed\n",
        "        tokens = detokenize(tokens, nouns)\n",
        "\n",
        "    return tokens"
      ],
      "execution_count": 52,
      "outputs": []
    },
    {
      "cell_type": "code",
      "metadata": {
        "id": "AKFFw2Cnavtk"
      },
      "source": [
        "def detokenize_setences(sentences, nouns):\n",
        "    if not isinstance(sentences, list):\n",
        "        sentences = [sentences]\n",
        "\n",
        "    result = []\n",
        "    \n",
        "    for s in sentences:\n",
        "        if not isinstance(s, str):\n",
        "            continue\n",
        "        tokens = s.split()\n",
        "        result.append(' '.join(detokenize(tokens, nouns)))\n",
        "\n",
        "    return result"
      ],
      "execution_count": 53,
      "outputs": []
    },
    {
      "cell_type": "code",
      "metadata": {
        "colab": {
          "base_uri": "https://localhost:8080/"
        },
        "id": "GEVtPjgJb_6-",
        "outputId": "342ee7a8-5df0-492b-d5b0-e1b5fd808b76"
      },
      "source": [
        "detokenized_labels =  detokenize_setences(tokenized_labelset, nouns)\n",
        "len(detokenized_labels)"
      ],
      "execution_count": 54,
      "outputs": [
        {
          "output_type": "execute_result",
          "data": {
            "text/plain": [
              "9149"
            ]
          },
          "metadata": {},
          "execution_count": 54
        }
      ]
    },
    {
      "cell_type": "code",
      "metadata": {
        "id": "TpGX1c7D51eo"
      },
      "source": [
        "# data -> df프레임이 있다고 가정\n",
        "# 아마 이런식으로 넣으면 돌아갈 겁니다.\n",
        "data['tokenized_labels'] = data['tokenized_labels'].map(lambda x: detokenize_setences(x, nouns))"
      ],
      "execution_count": 55,
      "outputs": []
    },
    {
      "cell_type": "code",
      "metadata": {
        "id": "u1wvRLuLUT1I"
      },
      "source": [
        "from collections import Counter\n",
        "\n",
        "\n",
        "def common_labels_tk(df):\n",
        "    label_list=[]\n",
        "    for row  in df['tokenized_labels']:\n",
        "        try:\n",
        "            label_list.extend(row)\n",
        "        except:\n",
        "            pass\n",
        "    \n",
        "    cnt = Counter(label_list)\n",
        "    return cnt.most_common(2000)"
      ],
      "execution_count": 56,
      "outputs": []
    },
    {
      "cell_type": "code",
      "metadata": {
        "id": "DTsEBzKPZ7Bw"
      },
      "source": [
        "label_list=[]\n",
        "for row  in data['tokenized_labels']:\n",
        "    try:\n",
        "        label_list.extend(row)\n",
        "    except:\n",
        "        pass\n",
        "\n",
        "freq_tk = Counter(label_list)"
      ],
      "execution_count": 57,
      "outputs": []
    },
    {
      "cell_type": "code",
      "metadata": {
        "colab": {
          "base_uri": "https://localhost:8080/"
        },
        "id": "Og5cC5PUcs0q",
        "outputId": "59bce117-089d-49c2-8370-b60b8c8e6e56"
      },
      "source": [
        "len(freq_tk)"
      ],
      "execution_count": 58,
      "outputs": [
        {
          "output_type": "execute_result",
          "data": {
            "text/plain": [
              "8942"
            ]
          },
          "metadata": {},
          "execution_count": 58
        }
      ]
    },
    {
      "cell_type": "code",
      "metadata": {
        "id": "MA8Fy0tmaD_Z"
      },
      "source": [
        "freq_tokens = freq_tk.most_common(9174)"
      ],
      "execution_count": 59,
      "outputs": []
    },
    {
      "cell_type": "code",
      "metadata": {
        "id": "IospAgWaVBDp"
      },
      "source": [
        "import itertools\n",
        " \n",
        "# 토큰화된 레이블에서 너무 흔하거나 상세하거나 포괄적인 카테고리는 미리 제거\n",
        " \n",
        "# 이와 동일한 레이블이 있다면 제거\n",
        "exclude_tokens = ['완료', '부품', '레이', '올뉴', '더뉴', '부분', '동작', '좌측', '우측', '라인', '교환', '파이', '등', '이상', '확인', '탈착', '접수', '이동','리점',\\\n",
        "                  '영수증', '플러', '라이', '이트', '진행', '상태', '조치', '가능', '작동', '수', '보충', '부팅', '세차', '출력', '재결합', '마일캡', '증상', '후방', \\\n",
        "                  '에어컨', '전원', '현대', '펑크', '퓨즈', '정비', '내부', '비용','인입', '고정', '박스', '거치', '방문', '재고', '소거', '장착', '카메라',\\\n",
        "                  '해제', '진단', '외부', '엔진', '사고', '전우', '발생', '전원', '현재', '교환 완료', 'CU', '고장', '제거', '불가', '필요', '조수석 앞',\\\n",
        "                  '전좌', '전좌우', '문제', '정상적', '출장', '정리', 'BX', '지하', '양쪽', '과거', '위치', '보정', '실행', '더블', '자동', '주행','쏘카', '사용',\\\n",
        "                  '기능', '동일', 'DL', '요청', '경고', '현상', '수', '양쪽', '부분', '동작', '장애','버튼','모터','등 교환' ,'']\n",
        "# 이를 포함하는 레이블이 있다면 제거\n",
        "part_tokens = ['넥센', '차량', '마트', '인치', '작동 확인', '증상 재현', '정상 확인 가능', '센터', '현대자동차', '작동하지', 'IQ 시리즈' ]\n",
        " \n",
        "# 제거 후 레이블들이 저장될 리스트\n",
        "freq_tk_ls = []\n",
        " \n",
        " \n",
        "for x in freq_tokens:\n",
        "  check = 0\n",
        "  for t1, t2 in itertools.zip_longest(exclude_tokens, part_tokens):\n",
        "    if x[0]==t1:\n",
        "      check = 1\n",
        "      break\n",
        "    if t2 == None:\n",
        "      continue\n",
        "    elif t2 in x[0]:\n",
        "      check = 1\n",
        "      break\n",
        "  if check == 0:\n",
        "    freq_tk_ls.append(x)"
      ],
      "execution_count": 60,
      "outputs": []
    },
    {
      "cell_type": "code",
      "metadata": {
        "colab": {
          "base_uri": "https://localhost:8080/"
        },
        "id": "0ZAV61Aaa7J2",
        "outputId": "417c6df9-0f3b-4c05-c96b-0781185d6b07"
      },
      "source": [
        "len(freq_tk_ls)"
      ],
      "execution_count": 61,
      "outputs": [
        {
          "output_type": "execute_result",
          "data": {
            "text/plain": [
              "8231"
            ]
          },
          "metadata": {},
          "execution_count": 61
        }
      ]
    },
    {
      "cell_type": "code",
      "metadata": {
        "colab": {
          "base_uri": "https://localhost:8080/"
        },
        "id": "r5IMO5u7790-",
        "outputId": "ccb336bb-ad07-45a2-9a48-fa3afad85dac"
      },
      "source": [
        "('', 74) in freq_tk_ls"
      ],
      "execution_count": 62,
      "outputs": [
        {
          "output_type": "execute_result",
          "data": {
            "text/plain": [
              "False"
            ]
          },
          "metadata": {},
          "execution_count": 62
        }
      ]
    },
    {
      "cell_type": "code",
      "metadata": {
        "id": "3GdcXLHKe5b9"
      },
      "source": [
        "from collections import defaultdict\n",
        "\n",
        "#categories = ['후우타이어 교환', '타이어 교환', '네비게이션 교환', 'fdfjd']\n",
        "\n",
        "    \n",
        "\n",
        "\n",
        "def group_duplicated_word_tk(words):\n",
        "    '''\n",
        "    defaultdict이 import 되어야한다.\n",
        "    words : 공백기준으로 split된 문자집합\n",
        "    return : 중복단어를 가장 작은 단어를 키워드로 그룹화\n",
        "            각 그룹의 첫번째 원소가 키워드이다.\n",
        "    '''\n",
        "    group_dict = defaultdict(list)\n",
        "    group_ids_dict = defaultdict(set)\n",
        "    id_generator = iter(range(1, 20000))\n",
        "\n",
        "\n",
        "    def add_to_group(src, trg):\n",
        "        included = False\n",
        "\n",
        "        if group_ids_dict[src[0]]:\n",
        "            for id in group_ids_dict[src[0]]:\n",
        "                keyword = group_dict[id][0][0]\n",
        "                if keyword in trg[0]:\n",
        "                    group_dict[id].append(trg)\n",
        "                    group_ids_dict[trg[0]].add(id)\n",
        "                    included = True\n",
        "        elif group_ids_dict[trg[0]]:\n",
        "            for id in group_ids_dict[trg[0]]:\n",
        "                keyword = group_dict[id][0][0]\n",
        "                if src[0] in keyword:\n",
        "                    group_dict[id].insert(0, src)\n",
        "                elif keyword in src[0]:\n",
        "                    group_dict[id].append(src)\n",
        "                else:\n",
        "                    continue\n",
        "                included = True\n",
        "                group_ids_dict[src[0]].add(id)\n",
        "\n",
        "        if included == False:\n",
        "            id = id_generator.__next__()\n",
        "            group_dict[id].append(src)\n",
        "            group_dict[id].append(trg)\n",
        "            group_ids_dict[src[0]].add(id)\n",
        "            group_ids_dict[trg[0]].add(id)\n",
        "\n",
        "    for src in words:\n",
        "        for trg in words:\n",
        "            if src[0] == trg[0]:\n",
        "                continue\n",
        "\n",
        "            if src[0] in trg[0]:\n",
        "                add_to_group(src, trg)\n",
        "    scores = []\n",
        "    for k ,v in group_dict.items():\n",
        "        group_dict[k] = list(set(v))\n",
        "        group_dict[k].sort(key= lambda x: int(x[1]), reverse=True)\n",
        "        sub_cat_score = sum([x[1] for x in group_dict[k]])\n",
        "        scores.append(sub_cat_score)\n",
        "        if sub_cat_score < 20:\n",
        "            group_dict[k] = None\n",
        "        else:\n",
        "            group_dict[k].sort(key= lambda x: len(x[0]))\n",
        "    \n",
        "    \n",
        "    plt.rcParams[\"figure.figsize\"] = (24, 13.5)\n",
        "    \n",
        "    fig, ax1 = plt.subplots()\n",
        "    plt.grid()\n",
        "    ss = sorted(scores, reverse=True)\n",
        "    ind_20 = ss.index(19)\n",
        "    sx = [sum(ss[:i]) / sum(ss) for i in range(len(scores))]\n",
        "    \n",
        "    ax1.set_xlabel('Label (sorted by Count)', fontsize=20)\n",
        "    ax1.set_ylabel('No. of Appearance', color='red', fontsize=20)\n",
        "    ax1.bar(range(len(scores)), ss, color='r')\n",
        "    ax1.axhline(20,color = 'k', lw=2)\n",
        "    ax1.axvline(ind_20,color = 'g', lw=0.7)\n",
        "    ax1.set_xticks(ticks=[ind_20])\n",
        "    ax1.set_xticklabels([f'Threshold\\nRecategorize with {ind_20} labels\\nout of {len(ss)} labels'], fontsize=24)\n",
        "    ax1.tick_params(axis='y', labelcolor='r')\n",
        "    ax1.set_ylim(0, 100)\n",
        "\n",
        "    ax2 = ax1.twinx()  \n",
        "    ax2.set_ylabel('Label cover ratio', color='b', fontsize=20)  \n",
        "    ax2.plot(range(len(scores)), sx, color='b')\n",
        "    ax2.tick_params(axis='y', labelcolor='b')\n",
        "    ax2.set_ylim(0, 1.1)\n",
        "\n",
        "    ax2.axhline(sx[ind_20],color = 'g', lw=2, xmin=0.05, xmax=0.95)\n",
        "    #fig.tight_layout()\n",
        "    \n",
        "    plt.title(f\"Labels filtered by number of apperances.\\n {100 * sx[ind_20]:.2f}% of total appearances covered\", fontsize=32)\n",
        "    # plt.savefig('/content/drive/MyDrive/정비메모분석/최종발표/images/label_filters_2.png', edgecolor='k', pad_inches=0)\n",
        "    plt.show()\n",
        "    \n",
        "    \n",
        "    return group_dict"
      ],
      "execution_count": 63,
      "outputs": []
    },
    {
      "cell_type": "code",
      "metadata": {
        "id": "8JZSk-NhcPtu",
        "colab": {
          "base_uri": "https://localhost:8080/",
          "height": 727
        },
        "outputId": "f866d385-2fc2-46ee-f181-f457adf7d83c"
      },
      "source": [
        "sub_labels = {}\n",
        "temp = dict(group_duplicated_word_tk(set(freq_tk_ls)))\n",
        "# [print(key,':',value) for key,  value in temp.items()]\n",
        "for k, v in temp.items():\n",
        "    if v:\n",
        "        sub_labels[v[0][0]] = [x[0] for x in v]"
      ],
      "execution_count": 64,
      "outputs": [
        {
          "output_type": "display_data",
          "data": {
            "image/png": "[encoded data removed]",
            "text/plain": [
              "<Figure size 1728x972 with 2 Axes>"
            ]
          },
          "metadata": {
            "needs_background": "light"
          }
        }
      ]
    },
    {
      "cell_type": "markdown",
      "metadata": {
        "id": "yuhcv5dMplc0"
      },
      "source": [
        "- 전처리 단계에서 '미쉐린', 'RH', 'RA' 제거\n",
        "- exclude_tokens에 '사용', '기능', 'DL', '동일' 제거"
      ]
    },
    {
      "cell_type": "code",
      "metadata": {
        "id": "FqSLnMLXss_A"
      },
      "source": [
        "# sub_labels['후패드']"
      ],
      "execution_count": 65,
      "outputs": []
    },
    {
      "cell_type": "code",
      "metadata": {
        "id": "rW7jSSuxvIPf",
        "colab": {
          "base_uri": "https://localhost:8080/"
        },
        "outputId": "3270c344-91a1-460a-8748-b5daff449dd8"
      },
      "source": [
        "print(sub_labels.keys())"
      ],
      "execution_count": 66,
      "outputs": [
        {
          "output_type": "stream",
          "name": "stdout",
          "text": [
            "dict_keys(['타이어', '재부착', 'CSA', '네비게이션', '내비', '재결합 정상', '업체 방문 필요', '대행비', '워셔액', '미러', '촉매', '충전', '블랙박스', '브레이크', '후패드', 'UMB', '전조등 전구', '초기화 진행', '네비게이션 정상', '업그레이드', '소리', '커버', '점화플러그', '블루투스 연결', '장애처리 탁송', '클리닝', '파손', '시동불가', '와이퍼', '정상', '소켓교환', '배터리 방전', '부동액', '운전석', '딜리버리', '제어', '보충 경고등 해제', '점프 시동', 'USB', '점검요청', '라이트전구', '수리요청', '브레이크등 전구교환', '리셋', '정상 멘트', '오일 교환', '얼라이먼트', '경고등 소거', '커넥터', '진단기 점검', '워셔액 보충', '후방카메라 작동불가', '정상동작 확인', '재배치', '사고조사', '체크등', '장애처리', '점검후 정상', '보정작업', '워셔액 정상', 'TCS 재시작 정상', '어셈블리', '주간주행등 교환', 'TCS 교환', '후방카메라 교환', '미션', '탁송비', '단말', '점검결과', '후방카메라', '작업비', '탈부착', '프론트', '포켓파이', '워셔액 해동', '보조제동등', '주유', 'RA', '보증수리', '업데이트', '복귀', '배선고정', '블랙박스 메모리', 'AGM', '점화코일', '주유구', '지역', '와이퍼교환', '공기압', '긴급', '배터리 교환', '충전카드 비치완료', '초기화', 'OBD 단자', '거치대 교환', 'AS 진행', 'SD 카드 회수완료', '경고등', '발송', '하이패스 유심', '백색더블', '하향등', '업체 방문 요청', '기본점검', '정품', '장착완료', '라이트', '지하층', '작동불가', '워셔액 워셔액', '오디오', '전체 공기압 보충', 'BNK', '특수세차', '제동등 전구교환', 'SD 카드', '하이패스카드', '작동 점검', '안개등', '재연결', '내 비정상 작동', '터치업', '배터리점프 시동', '공임비', '정상동작', '네비게이션 거치대', '점검 이상', '보증', '별도조치', '점등', '헤드램프 전구교환', '에어컨필터', '트렁크', '보충완료', '맵센서', '제동등', '내비 실행', '도어', '점프 완료', '중앙', '점검비', '주행등 전구', 'TCS', '이물질', '조립', '수정', '시운전', '현장점검', '전조등 교환', 'AS', '카워시', '매칭요청', '불가능', '스캐너', '조정', '메모리카드', '선제조치', '점검 필요', '시동', '해동', '현장처리', '탁송', '현장조치 불가', '현장방문', '방향지시등', '컴파운드', '재고정', '얼라인먼트', '네비게이션고장', '분실물 회수', '코일 교환', '자재', '재시작', '재장착', '전구교환', '가스켓', '패드교환', '배선정리', '부착완료', '미등', '정상 확인', '확인완료', '기스제거', '수리', '교환완료', '배터리', '배선', '요소수', '교환후 정상', '작동이상', '냉각수', '네비', '시동 유지 완료', '정상 안내멘트 확인 가능', '현장조치', '테스트', '케이블', '고장코드', '교환 정상', '대납', '악취', '디스크', '정위치', '트립', 'VOC 요청', '소음', '스로틀바디', '해당업체 방문', '확인 가능', '펑크수리', '펌프', '시동 유지', '주간주행등', '범퍼', '공임', '기억소거', '후방영상', '엔진오일 세트', '통신', '분실물', '전패드 교환', '배기', '휀다', '퓨즈 교환', '화면', '오일 보충', '분사', '손상', '시동 정상', '키박스', '점프', '시트', '문제 불가', '센서교환', '휴즈 교환', '엔진체크', '하이패스', '펑크흔적', '설정변경', '키아웃', '주차', '점검', '방전', '전조등', '코일', '플러그 교환', '조수석', '블루투스', '엔진오일', '전패드', '조치완료'])\n"
          ]
        }
      ]
    },
    {
      "cell_type": "code",
      "metadata": {
        "id": "TXxQ_5S-SH8t",
        "colab": {
          "base_uri": "https://localhost:8080/"
        },
        "outputId": "f0c3aca3-c9e9-4f5c-b5cc-bcdae4adcfc9"
      },
      "source": [
        "'얼라이먼트'in sub_labels.keys()"
      ],
      "execution_count": 67,
      "outputs": [
        {
          "output_type": "execute_result",
          "data": {
            "text/plain": [
              "True"
            ]
          },
          "metadata": {},
          "execution_count": 67
        }
      ]
    },
    {
      "cell_type": "code",
      "metadata": {
        "id": "fECgKw5AwTgE"
      },
      "source": [
        "# sub_labels['라이']"
      ],
      "execution_count": 68,
      "outputs": []
    },
    {
      "cell_type": "code",
      "metadata": {
        "id": "oZVkwsZaSVbt"
      },
      "source": [
        "def get_category(tokens):\n",
        "    category = []\n",
        "    if tokens == None:\n",
        "        return\n",
        "    for t in tokens:\n",
        "        \n",
        "        sub_cat = []\n",
        "        for key, value in sub_labels.items():\n",
        "            if t in value:\n",
        "                sub_cat.append(key)\n",
        "        if sub_cat:\n",
        "            sub_cat.sort(key=lambda x: t.index(x))\n",
        "            category.append(sub_cat)\n",
        "    if not category:\n",
        "        return None\n",
        "    return category"
      ],
      "execution_count": 70,
      "outputs": []
    },
    {
      "cell_type": "code",
      "metadata": {
        "id": "UcZpvXMIdJl1",
        "colab": {
          "base_uri": "https://localhost:8080/"
        },
        "outputId": "6bfadec6-7d8a-417f-ae60-eb00b21b25fd"
      },
      "source": [
        "'CM 배선수리'.index('수리')"
      ],
      "execution_count": 71,
      "outputs": [
        {
          "output_type": "execute_result",
          "data": {
            "text/plain": [
              "5"
            ]
          },
          "metadata": {},
          "execution_count": 71
        }
      ]
    },
    {
      "cell_type": "code",
      "metadata": {
        "id": "xWkzORK4ciw-"
      },
      "source": [
        "data['new_inspect_type'] = data['tokenized_labels'].apply(get_category)"
      ],
      "execution_count": 72,
      "outputs": []
    },
    {
      "cell_type": "code",
      "metadata": {
        "id": "pJ5PQq9BsIXe"
      },
      "source": [
        "def rm_duplicate_v2(s):\n",
        "    if s is None:\n",
        "        return None\n",
        "    final_res = []\n",
        "    for sub_label in s:\n",
        "        temp = sorted(sub_label, key=len)\n",
        "        res = []\n",
        "        while temp:\n",
        "            cand = temp.pop()\n",
        "            cnt = 0\n",
        "            for el in res:\n",
        "                if cand in el:\n",
        "                    cnt = 1\n",
        "                    break\n",
        "            if not cnt:\n",
        "                res.append(cand)\n",
        "        if res:\n",
        "            res.sort(key=lambda x: sub_label.index(x))\n",
        "            final_res.append(res)\n",
        "    if not final_res:\n",
        "        return None\n",
        "    return final_res"
      ],
      "execution_count": 73,
      "outputs": []
    },
    {
      "cell_type": "code",
      "metadata": {
        "id": "ntl5VyAmbdSS"
      },
      "source": [
        "data['new_inspect_type_cleanse'] = data['new_inspect_type'].apply(rm_duplicate_v2)"
      ],
      "execution_count": 75,
      "outputs": []
    },
    {
      "cell_type": "code",
      "metadata": {
        "colab": {
          "base_uri": "https://localhost:8080/"
        },
        "id": "9jEEigoonyv0",
        "outputId": "1df3bb51-f6cc-4847-9da5-6b6475048256"
      },
      "source": [
        "data[data['lesion_id']==668538].iloc[1,-1]"
      ],
      "execution_count": 76,
      "outputs": [
        {
          "output_type": "execute_result",
          "data": {
            "text/plain": [
              "[['TCS', '재시작', '네비게이션'], ['네비'], ['해당업체 방문', '업체 방문 요청']]"
            ]
          },
          "metadata": {},
          "execution_count": 76
        }
      ]
    },
    {
      "cell_type": "code",
      "metadata": {
        "colab": {
          "base_uri": "https://localhost:8080/"
        },
        "id": "jg3QBjr8gVz1",
        "outputId": "a69aa32b-8ee5-409d-b910-d7f11a302985"
      },
      "source": [
        "print(f'Unique classes :', len(sub_labels) )"
      ],
      "execution_count": 78,
      "outputs": [
        {
          "output_type": "stream",
          "name": "stdout",
          "text": [
            "Unique classes : 251\n"
          ]
        }
      ]
    },
    {
      "cell_type": "code",
      "metadata": {
        "id": "PjeQ0Cxfh7KR"
      },
      "source": [
        "# data.to_json(PATH + '/desc_labeled.json')"
      ],
      "execution_count": 79,
      "outputs": []
    }
  ]
}