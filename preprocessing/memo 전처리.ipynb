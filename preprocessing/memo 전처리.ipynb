{
  "nbformat": 4,
  "nbformat_minor": 0,
  "metadata": {
    "colab": {
      "name": "memo 전처리.ipynb",
      "provenance": [],
      "collapsed_sections": [],
      "mount_file_id": "1e7MU50GPAiNxBYqN706yq8m2FrpVB9-s",
      "authorship_tag": "ABX9TyP3KySbjWx2JOtjZ2X7rZFO"
    },
    "kernelspec": {
      "display_name": "Python 3",
      "name": "python3"
    },
    "language_info": {
      "name": "python"
    }
  },
  "cells": [
    {
      "cell_type": "markdown",
      "metadata": {
        "id": "pQagctLWNcGS"
      },
      "source": [
        "### 데이터 로드"
      ]
    },
    {
      "cell_type": "code",
      "metadata": {
        "id": "tC7aY17296dP"
      },
      "source": [
        "import pandas as pd\n",
        "\n",
        "%load_ext google.colab.data_table\n",
        "\n",
        "data = pd.read_csv('/content/drive/MyDrive/socar data/memo_hackathon_lesion_info_table.tsv')\n",
        "\n",
        "# data[:20000]"
      ],
      "execution_count": 1,
      "outputs": []
    },
    {
      "cell_type": "markdown",
      "metadata": {
        "id": "hqZqlfhvNqri"
      },
      "source": [
        "### 전체데이터에서 필요한 칼럼만 추출"
      ]
    },
    {
      "cell_type": "code",
      "metadata": {
        "id": "M_98vidHMtuv"
      },
      "source": [
        "# data.columns"
      ],
      "execution_count": 2,
      "outputs": []
    },
    {
      "cell_type": "code",
      "metadata": {
        "id": "-FOEGd42IJpQ"
      },
      "source": [
        "cols = ['lesion_id', 'lesion_detail_type', 'memo_id', 'memo', 'inspect_id', 'inspect_type', 'price', 'description']\n",
        "data_part = data[cols]\n",
        "\n",
        "# data_part[:20000]"
      ],
      "execution_count": 3,
      "outputs": []
    },
    {
      "cell_type": "markdown",
      "metadata": {
        "id": "g6-qArmIZDP-"
      },
      "source": [
        "'memo_id' 중복 제거"
      ]
    },
    {
      "cell_type": "code",
      "metadata": {
        "colab": {
          "base_uri": "https://localhost:8080/"
        },
        "id": "o4QoBdC9Yy7v",
        "outputId": "1de5b989-e585-4f69-998c-c5dbee976483"
      },
      "source": [
        "data_part.drop_duplicates('memo_id', inplace=True)\n",
        "data_part.dropna(axis=0, inplace=True)"
      ],
      "execution_count": 4,
      "outputs": [
        {
          "output_type": "stream",
          "name": "stderr",
          "text": [
            "/usr/local/lib/python3.7/dist-packages/ipykernel_launcher.py:1: SettingWithCopyWarning: \n",
            "A value is trying to be set on a copy of a slice from a DataFrame\n",
            "\n",
            "See the caveats in the documentation: https://pandas.pydata.org/pandas-docs/stable/user_guide/indexing.html#returning-a-view-versus-a-copy\n",
            "  \"\"\"Entry point for launching an IPython kernel.\n",
            "/usr/local/lib/python3.7/dist-packages/ipykernel_launcher.py:2: SettingWithCopyWarning: \n",
            "A value is trying to be set on a copy of a slice from a DataFrame\n",
            "\n",
            "See the caveats in the documentation: https://pandas.pydata.org/pandas-docs/stable/user_guide/indexing.html#returning-a-view-versus-a-copy\n",
            "  \n"
          ]
        }
      ]
    },
    {
      "cell_type": "code",
      "metadata": {
        "id": "NCPtyEV-ZAQT"
      },
      "source": [
        "# data_part    # 50952개"
      ],
      "execution_count": 5,
      "outputs": []
    },
    {
      "cell_type": "markdown",
      "metadata": {
        "id": "Zkz74TAQNzxH"
      },
      "source": [
        "## memo 데이터 전처리\n",
        "\n",
        "- 양식이 매번 업데이트 되므로 거의 양식이 없다고 봐도 무방\n",
        "- 우선 양식이 있는 데이터에서 필요한 정보만 추려보자.\n",
        "- memo데이터를 문장별로 구분할것인지 말것인지\n",
        "- 구분한다면 어떤 형태로 저장할 것인지"
      ]
    },
    {
      "cell_type": "markdown",
      "metadata": {
        "id": "Q9ctLsQGRpiC"
      },
      "source": [
        "### 신규접수, 처리중, 조치완료, 검수중 과 같은 시스템이 자동입력한 데이터 제거"
      ]
    },
    {
      "cell_type": "code",
      "metadata": {
        "id": "muF-YusFO_6D"
      },
      "source": [
        "import re\n",
        "\n",
        "#pattern = r'(신규접수->처리중)|(처리중->조치완료)|(조치완료->검수중) \\([0-9]{4}-[0-9]{2}-[0-9]{2} [0-9]{2}:[0-9]{2}:[0-9]{2}\\)'    # 이처럼 날짜 형식을 추가한 것과 제거한 것으로 찾은 데이터수는 같다. (36781개)\n",
        "pattern = r'(신규접수->처리중)|(처리중->조치완료)|(처리중->조치불필요)|(처리중->조치불가)|(조치완료->검수중)|(조치완료->검수중)|(검수중->검수완료)'\n",
        "\n",
        "# data_part[ data_part['memo'].apply(lambda s: bool(re.search(pattern, str(s))))]    # 20139개"
      ],
      "execution_count": 6,
      "outputs": []
    },
    {
      "cell_type": "markdown",
      "metadata": {
        "id": "ce4CBFkRT5OP"
      },
      "source": [
        "실제로 내가 기대한 텍스트를 탐색한 것인지 확인해본다.\n",
        "- OK"
      ]
    },
    {
      "cell_type": "code",
      "metadata": {
        "id": "CaHoZC58S4xW"
      },
      "source": [
        "test_str = data_part['memo'].to_string()\n",
        "# print(re.findall(pattern, test_str))"
      ],
      "execution_count": 7,
      "outputs": []
    },
    {
      "cell_type": "markdown",
      "metadata": {
        "id": "pYX1Ej-jUdkY"
      },
      "source": [
        "drop후 새로운 dataframe에 저장한다."
      ]
    },
    {
      "cell_type": "code",
      "metadata": {
        "id": "BV8slsCpQn4_"
      },
      "source": [
        "df_idx = data_part[ data_part['memo'].apply(lambda s: bool(re.search(pattern, str(s))))].index\n",
        "data_part_preprocessing = data_part.drop(df_idx)\n",
        "\n",
        "# data_part_preprocessing    # 30813개"
      ],
      "execution_count": 8,
      "outputs": []
    },
    {
      "cell_type": "markdown",
      "metadata": {
        "id": "TAilLXY6RbOi"
      },
      "source": [
        "중복제거한 데이터 50952개에서 불필요한 memo데이터가 20139개가 제거되어, 30813개가 남았다."
      ]
    },
    {
      "cell_type": "markdown",
      "metadata": {
        "id": "e6Q9SXIeTxLN"
      },
      "source": [
        "### 한글 맞춤법 검사\n",
        "\n"
      ]
    },
    {
      "cell_type": "code",
      "metadata": {
        "colab": {
          "base_uri": "https://localhost:8080/"
        },
        "id": "DhYgjtyJT2jU",
        "outputId": "a2559b6a-621b-4ce4-d888-f460eaef78c6"
      },
      "source": [
        "!pip install git+https://github.com/ssut/py-hanspell.git # 띄어쓰기/ 맞춤법 교정"
      ],
      "execution_count": 9,
      "outputs": [
        {
          "output_type": "stream",
          "name": "stdout",
          "text": [
            "Collecting git+https://github.com/ssut/py-hanspell.git\n",
            "  Cloning https://github.com/ssut/py-hanspell.git to /tmp/pip-req-build-8zp4a4qj\n",
            "  Running command git clone -q https://github.com/ssut/py-hanspell.git /tmp/pip-req-build-8zp4a4qj\n",
            "Requirement already satisfied: requests in /usr/local/lib/python3.7/dist-packages (from py-hanspell==1.1) (2.23.0)\n",
            "Requirement already satisfied: idna<3,>=2.5 in /usr/local/lib/python3.7/dist-packages (from requests->py-hanspell==1.1) (2.10)\n",
            "Requirement already satisfied: urllib3!=1.25.0,!=1.25.1,<1.26,>=1.21.1 in /usr/local/lib/python3.7/dist-packages (from requests->py-hanspell==1.1) (1.24.3)\n",
            "Requirement already satisfied: certifi>=2017.4.17 in /usr/local/lib/python3.7/dist-packages (from requests->py-hanspell==1.1) (2021.10.8)\n",
            "Requirement already satisfied: chardet<4,>=3.0.2 in /usr/local/lib/python3.7/dist-packages (from requests->py-hanspell==1.1) (3.0.4)\n",
            "Building wheels for collected packages: py-hanspell\n",
            "  Building wheel for py-hanspell (setup.py) ... \u001b[?25l\u001b[?25hdone\n",
            "  Created wheel for py-hanspell: filename=py_hanspell-1.1-py3-none-any.whl size=4868 sha256=b8d72d1112442b6e179556fa5cc62f989ad6b1adc2b6ec80381add0ce9106180\n",
            "  Stored in directory: /tmp/pip-ephem-wheel-cache-kdtmroub/wheels/ab/f5/7b/d4124bb329c905301baed80e2ae45aa14e824f62ebc3ec2cc4\n",
            "Successfully built py-hanspell\n",
            "Installing collected packages: py-hanspell\n",
            "Successfully installed py-hanspell-1.1\n"
          ]
        }
      ]
    },
    {
      "cell_type": "code",
      "metadata": {
        "id": "inNVQBMdUGuM"
      },
      "source": [
        "from hanspell import spell_checker\n",
        "\n",
        "def correction(s):\n",
        "  result = spell_checker.check(s)\n",
        "  result.as_dict()  # dict로 출력\n",
        "  return result[2]"
      ],
      "execution_count": 10,
      "outputs": []
    },
    {
      "cell_type": "code",
      "metadata": {
        "id": "wFzFm6khVMQv"
      },
      "source": [
        "count = 0\n",
        "\n",
        "#for row in data_part_preprocessing.values:\n",
        "for i,row in data_part_preprocessing.iterrows():\n",
        "  # print(i)\n",
        "  # print(row['memo'])\n",
        "  \n",
        "  # memo = row['memo'].replace('\\n\\n', '\\n')\n",
        "  # memo_sent = memo.split('\\n')\n",
        "  # print(memo_sent)\n",
        "  #print(correction(row['memo']))\n",
        "  if count==10:\n",
        "    break\n",
        "  count+=1"
      ],
      "execution_count": 11,
      "outputs": []
    },
    {
      "cell_type": "code",
      "metadata": {
        "id": "3jhxsE5kh3wy"
      },
      "source": [
        "import re\n",
        "\n",
        "count = 0\n",
        "\n",
        "for i,row in data_part_preprocessing.iterrows():\n",
        "  #print(row['memo'])\n",
        "\n",
        "  memo = row['memo']\n",
        "  content = re.findall('(ㅁ문의내용[^ㅁ]+ㅁ)|(ㅁ 문의내용[^ㅁ]+ㅁ)|([^ㅁ ]+문의내용[^ㅁ]+ㅁ)', memo)\n",
        "\n",
        "  if content:\n",
        "    if content[0][2]:\n",
        "      print(content)\n",
        "  # if content:\n",
        "  #   if content[0][0]:\n",
        "  #     print(content[0][0])\n",
        "  #   elif content[0][1]:\n",
        "  #     print(content[0][1])\n",
        "  #   elif content[0][2]:\n",
        "  #     print(content[0][2])\n",
        "    \n",
        "\n",
        "\n",
        "  if count==10000:\n",
        "    break\n",
        "  count+=1"
      ],
      "execution_count": null,
      "outputs": []
    },
    {
      "cell_type": "markdown",
      "metadata": {
        "id": "kR86wx55peKy"
      },
      "source": [
        "### extract_info함수"
      ]
    },
    {
      "cell_type": "code",
      "metadata": {
        "id": "hcU206Dj_2uz"
      },
      "source": [
        "# data의 'memo'에 NaN이 있으면 오류발생함.\n",
        "def extract_info(data):\n",
        "  result_df = pd.DataFrame(columns=['lesion_id', 'memo_info'])\n",
        "\n",
        "  # 테스트 시)\n",
        "  # count = 0\n",
        "  for i,row in data.iterrows():\n",
        "    memo = row['memo']\n",
        "    memo = re.sub('문의사항', '문의내용', memo)\n",
        "    content = re.findall('(ㅁ문의[ ]?내용[\\s\\S]+ㅁ확인/처리 내용)|(ㅁ문의[ ]?내용[^ㅁ]+ㅁ)|(ㅁ 문의[ ]?내용[^ㅁ]+ㅁ)|([^ㅁ ]+문의[ ]?내용[^ㅁ]+ㅁ)', memo)\n",
        "    content2 = re.findall('◎[ ]?문의[ ]?내용[^◎]+◎', memo)\n",
        "\n",
        "    # if row['lesion_id']==697976:\n",
        "    #   print(memo)\n",
        "    #   print('content: ')\n",
        "    #   print(content)\n",
        "\n",
        "    # 문의내용이 있는 경우\n",
        "    text = ''\n",
        "    if content2:\n",
        "      text = content2[0]\n",
        "    \n",
        "    else:\n",
        "      if content:\n",
        "        # print(content)\n",
        "        if content[0][0]:\n",
        "          text = content[0][0]\n",
        "        elif content[0][1]:\n",
        "          text = content[0][1]\n",
        "        elif content[0][2]:\n",
        "          text = content[0][2]\n",
        "    \n",
        "    if text:\n",
        "      # 의미없는 텍스트 제거\n",
        "      text = re.sub(r'문의내용', ' ', text, flags=re.MULTILINE)\n",
        "      text = re.sub(r'안내/처리 내용', ' ', text, flags=re.MULTILINE)\n",
        "      text = re.sub(r'확인/처리 내용', ' ', text, flags=re.MULTILINE)\n",
        "      text = re.sub(r'확인내용', ' ', text, flags=re.MULTILINE)\n",
        "      #text = re.sub(r'인입', ' ', text, flags=re.MULTILINE)\n",
        "      text = re.sub(r'010-0000-0000', ' ', text, flags=re.MULTILINE)\n",
        "\n",
        "      text = re.sub(r'[\\nㅁㄴ＊*◎:/,;\\-\\.]', ' ', text, flags=re.MULTILINE)\n",
        "      text = re.sub(r'[ ]+', ' ', text)\n",
        "\n",
        "      if (text.split(' ')[0] == '완료') | (text.split(' ')[0] == '미완료'):\n",
        "        text = text[3:]\n",
        "      \n",
        "      text = text.strip()\n",
        "      \n",
        "      # 여기에 중심단어로 replace하는 작업 필요\n",
        "      # 아니면 토큰화 후 replace하는 게 더 나을수도 있겠다.\n",
        "      if len(text) > 1:\n",
        "        result_df = result_df.append(pd.Series([int(row['lesion_id']), text], index=result_df.columns), ignore_index=True)\n",
        "    \n",
        "    # 테스트 시)\n",
        "    # if count==1000:\n",
        "    #   break\n",
        "    # count+=1\n",
        "\n",
        "  \n",
        "  return result_df\n",
        "\n",
        "    \n",
        "df = extract_info(data_part_preprocessing)"
      ],
      "execution_count": 13,
      "outputs": []
    },
    {
      "cell_type": "code",
      "metadata": {
        "id": "gU34q8WsSpkb"
      },
      "source": [
        "# df"
      ],
      "execution_count": 14,
      "outputs": []
    },
    {
      "cell_type": "code",
      "metadata": {
        "id": "tPJ7oeTfX_YI"
      },
      "source": [
        "# df.to_csv('/content/drive/MyDrive/socar data/memo_info.csv')"
      ],
      "execution_count": 15,
      "outputs": []
    },
    {
      "cell_type": "code",
      "metadata": {
        "colab": {
          "base_uri": "https://localhost:8080/"
        },
        "id": "Re3-Kp5xZVcl",
        "outputId": "c5e1cb25-d873-4682-ac19-bf500e777e92"
      },
      "source": [
        "df['lesion_id'].nunique()"
      ],
      "execution_count": 16,
      "outputs": [
        {
          "output_type": "execute_result",
          "data": {
            "text/plain": [
              "6855"
            ]
          },
          "metadata": {},
          "execution_count": 16
        }
      ]
    },
    {
      "cell_type": "code",
      "metadata": {
        "colab": {
          "base_uri": "https://localhost:8080/"
        },
        "id": "3zNQOYDHZYFV",
        "outputId": "e243505c-278e-429e-d58a-aab31acc0a3a"
      },
      "source": [
        "data['lesion_id'].nunique()"
      ],
      "execution_count": 17,
      "outputs": [
        {
          "output_type": "execute_result",
          "data": {
            "text/plain": [
              "9477"
            ]
          },
          "metadata": {},
          "execution_count": 17
        }
      ]
    },
    {
      "cell_type": "markdown",
      "metadata": {
        "id": "fmSNz-9LaMOj"
      },
      "source": [
        "결과: 전체 lesion_id 9477개 중 6848개에 대한 memo 데이터로부터 유의미한 정보를 추출하였다."
      ]
    },
    {
      "cell_type": "markdown",
      "metadata": {
        "id": "0t8EsGk3aoGA"
      },
      "source": [
        "다음은 'memo'가 NaN이어서 오류발생했던 행이다."
      ]
    },
    {
      "cell_type": "code",
      "metadata": {
        "id": "M9IoQo-GWAUQ"
      },
      "source": [
        "# data[data['lesion_id']==688285]"
      ],
      "execution_count": 18,
      "outputs": []
    },
    {
      "cell_type": "code",
      "metadata": {
        "id": "X3S_-NIia_Ml"
      },
      "source": [
        "lesion_id = list(df['lesion_id'])"
      ],
      "execution_count": 19,
      "outputs": []
    },
    {
      "cell_type": "code",
      "metadata": {
        "colab": {
          "base_uri": "https://localhost:8080/"
        },
        "id": "mP8IdSjyefr6",
        "outputId": "11d0d9b1-d7a8-43a4-b552-0acdf006f834"
      },
      "source": [
        "data_part_preprocessing['lesion_id'].nunique()    # data와 lesion_id 수가 다르다. (이 56개 id에 대한 memo는 무엇일까)"
      ],
      "execution_count": 20,
      "outputs": [
        {
          "output_type": "execute_result",
          "data": {
            "text/plain": [
              "9421"
            ]
          },
          "metadata": {},
          "execution_count": 20
        }
      ]
    },
    {
      "cell_type": "code",
      "metadata": {
        "id": "CEhe9V8JbRwv"
      },
      "source": [
        "data_else = data_part_preprocessing[data_part_preprocessing['lesion_id'].isin(lesion_id) == False]\n",
        "\n",
        "# data_else"
      ],
      "execution_count": 21,
      "outputs": []
    },
    {
      "cell_type": "markdown",
      "metadata": {
        "id": "Mv5rld3UhuNO"
      },
      "source": [
        "남은 데이터들의 양식을 살펴보자.\n",
        "\n",
        "- \\# 사고조사\n",
        "- \\# 사고조사_요청\n",
        "- \\# 조치완료\n",
        "- \\# 문제어불가\n",
        "- \\# 네비게이션\n",
        "- 차량번호/차종/숫자/내용 4자리숫자/중증\n",
        "- 가온오토)\n",
        "\n",
        "\n",
        "어떻게 처리할까?\n",
        "- 타이어규격 제거 `[0-9]{3}/[0-9]{2}/[0-9]{2}`\n",
        "- 날짜 제거 `[0-9]{2}/[0-9]{2}`\n",
        "- 차량번호 제거 `[0-9]{2}[가-힣][0-9]{4}` 또는 `[0-9]{3}[가-힣][0-9]{4}`\n",
        "- '가온오토)' 제거\n",
        "- '010-0000-0000' 제거\n",
        "- `원예약번호 : [0-9]{8}`으로 re.search한 memo들은 따로 처리\n",
        " - 증상 상세내용 항목에 있는 텍스트 추출\n",
        " - 최대한 항목에 있는 텍스트를 추출 후, 남은 데이터들은 원예약번호를 제거한 나머지 텍스트를 그대로 가져온다. 대부분 '/'로 구분되어 있음. 특수문자 제거 필요.\n",
        "- '문의내용'이나 '문의사항'을 포함하고 있는 memo데이터는 이로부터 유의미한 정보를 추출하지 못했으므로 다른 항목에서 정보를 추출해야 한다.\n",
        "- '[긴급출동 접수]'에서는 '접수내용'과 '접수 상세 사유'라는 항목에서 정보를 추출한다.\n",
        "\n",
        "- 'lesion_id' 669141데이터는 제거한다. "
      ]
    },
    {
      "cell_type": "code",
      "metadata": {
        "id": "kIqt3rZAv3VJ"
      },
      "source": [
        "def extract_info_else(data):\n",
        "  result_df = pd.DataFrame(columns=['lesion_id', 'memo_info'])\n",
        "\n",
        "  count=0\n",
        "  for i,row in data.iterrows():\n",
        "    memo = row['memo']\n",
        "    memo = re.sub('[0-9]{2,3}[가-힣][ ]*[0-9]{4}', ' ', memo)    # 차량번호 제거\n",
        "    memo = re.sub('\\(\\d{2,4}/\\d{1,2}/\\d{1,2}\\)', ' ', memo)      # 소괄호 포함한 타이어 규격 제거\n",
        "    memo = re.sub('\\d{2,4}/\\d{1,2}/\\d{1,2}', ' ', memo)          # 타이어 규격 또는 날짜(연/월/일) 제거\n",
        "    memo = re.sub('\\d{1,2}/\\d{1,2}\\s', ' ', memo)                # 날짜(월/일) 제거\n",
        "    memo = re.sub('\\(.*\\)', ' ', memo)                           # 소괄호와 소괄호 안에 있는 내용 제거\n",
        "    memo = re.sub('010\\-0000\\-0000', ' ', memo)\n",
        "\n",
        "    content1 = re.findall(r'\\[긴급출동 접수\\]', memo)    # 긴급출동\n",
        "    content2 = re.findall(r'#[ ]*[^\\n]+', memo)          # 태그가 붙은 데이터\n",
        "    content3 = re.findall(r'증상 상세내용[^ㅁ]+', memo)\n",
        "\n",
        "    #content2 = re.findall('(\\w+\\/\\w+\\/\\w+\\/[\\w ]+\\/[\\w ]+)|([0-9]{3}/[0-9]{2}/[0-9]{2})|([0-9]{2,3}[가-힣][0-9]{4})|(# [가-힣]{4,6})', memo)\n",
        "\n",
        "    # 긴급출동 접수 (132개)\n",
        "    if content1:\n",
        "      # print(re.findall('(\\- 접수내용[ ]*:[ ]*[^\\-]+)|(\\- 접수 상세 사유[ ]*:[ ]*[^\\-]+)', memo))\n",
        "      info = re.findall('(\\- 접수내용[ ]*:[ ]*[^\\-]+)|(\\- 접수 상세 사유[ ]*:[ ]*[^\\-]+)', memo)\n",
        "      text1 = re.sub('\\- 접수내용[ ]*:[ ]*', '', info[0][0])\n",
        "      text1 = text1.strip()\n",
        "      text2 = re.sub('\\- 접수 상세 사유[ ]*:[ ]*', '', info[1][1])\n",
        "      text2 = text2.strip()\n",
        "    \n",
        "    elif content2:\n",
        "      # print()\n",
        "      # print(row['lesion_id'])\n",
        "      # print(content2)\n",
        "      for c in content2:\n",
        "        if bool(re.search(r'사고조사|선제조치|조치완료|차량상태확인', c)):\n",
        "          memo = re.sub(c, ' ', memo)\n",
        "        else:\n",
        "          memo = re.sub('#', '', memo)\n",
        "      \n",
        "      # print(memo)\n",
        "      count+=1\n",
        "        \n",
        "      # result_df = result_df.append(pd.Series([int(row['lesion_id']), text1+' '+text2], index=result_df.columns), ignore_index=True)\n",
        "    \n",
        "    elif content3:\n",
        "      print()\n",
        "      print(row['lesion_id'])\n",
        "      print(content3)\n",
        "      info = re.sub('증상\\s*상세\\s*내용\\s*:\\s*', ' ', str(content3))\n",
        "      print(info)\n",
        "      print(memo)\n",
        "  print(count)\n",
        "\n",
        "extract_info_else(data_else)"
      ],
      "execution_count": null,
      "outputs": []
    },
    {
      "cell_type": "code",
      "metadata": {
        "colab": {
          "base_uri": "https://localhost:8080/"
        },
        "id": "7iAWbKFslSuC",
        "outputId": "849d6c01-e81b-44de-bd6d-b4e6cc016377"
      },
      "source": [
        "a = '# 사고조치완료'\n",
        "b= r'사고조사|선제조치|조치완료|차량상태확인'\n",
        "\n",
        "bool(re.search(b, a))"
      ],
      "execution_count": 23,
      "outputs": [
        {
          "output_type": "execute_result",
          "data": {
            "text/plain": [
              "True"
            ]
          },
          "metadata": {},
          "execution_count": 23
        }
      ]
    },
    {
      "cell_type": "markdown",
      "metadata": {
        "id": "_EiCSe2QR7Hm"
      },
      "source": [
        "### '문의내용' 항목 정보 추출 관련 여러가지 테스트\n",
        "\n",
        "memo데이터 중 많은 부분을 차지하는 몇가지 양식이 있다.\n",
        "\n",
        "**양식1: '$고객'으로 시작**\n",
        "- 문의내용\n",
        "- 확인내용\n",
        "- 안내/처리내용\n",
        "- 약속 내용\n",
        "\n",
        "**양식2: '원예약번호'로 시작**\n",
        "- 원예약번호\n",
        "- 증상 상세내용\n",
        "- 문의내용\n",
        "- 확인내용\n",
        "- 안내/처리 내용\n",
        "- 약속 내용\n",
        "\n",
        "또는\n",
        "- 경고등 사진 여부\n",
        "- 타이어 펑크\n",
        "등 type별로 조금씩 달라짐.\n",
        "\n",
        "**양식3: '[긴급출동 접수]'로 시작**\n",
        "- 연락가능한번호\n",
        "- 고객과실여부\n",
        "- 고객과실사유\n",
        "- 접수내용\n",
        "- 접수상세사유\n",
        "- 일반도로 현주소\n",
        "- 현장 고객 유무\n",
        "\n",
        "\n",
        "\n",
        "**양식4: '1. 분실여부'로 시작**\n",
        "\n",
        "**양식5: '1. 증상 상세내용'으로 시작**"
      ]
    },
    {
      "cell_type": "code",
      "metadata": {
        "id": "OyB15qRLR8HJ"
      },
      "source": [
        "# data_part_preprocessing[:20000]"
      ],
      "execution_count": 24,
      "outputs": []
    },
    {
      "cell_type": "code",
      "metadata": {
        "id": "M1G2jQWcSqmU"
      },
      "source": [
        "pattern2 = r'문의내용'\n",
        "data_part_preprocessing[data_part_preprocessing['memo'].apply(lambda s: bool(re.search(pattern2, str(s))))]    # 7015개"
      ],
      "execution_count": null,
      "outputs": []
    },
    {
      "cell_type": "code",
      "metadata": {
        "id": "imA7JzWFW1OD"
      },
      "source": [
        "pattern2 = r'ㅁ문의내용[^ㅁ]+ㅁ'\n",
        "data_part_preprocessing[data_part_preprocessing['memo'].apply(lambda s: bool(re.search(pattern2, str(s))))]    # 6605개"
      ],
      "execution_count": null,
      "outputs": []
    },
    {
      "cell_type": "code",
      "metadata": {
        "id": "ieQRFySBMaor"
      },
      "source": [
        "pattern2 = r'ㅁ 문의내용[^ㅁ]+ㅁ'    # ㅁ 띄고 문의내용을 적은 경우\n",
        "data_part_preprocessing[data_part_preprocessing['memo'].apply(lambda s: bool(re.search(pattern2, str(s))))]    # 287개"
      ],
      "execution_count": null,
      "outputs": []
    },
    {
      "cell_type": "code",
      "metadata": {
        "id": "f6COQge9ND9P"
      },
      "source": [
        "pattern2 = r'[^ㅁ ]+문의내용[^ㅁ]+ㅁ'    # ㅁ이 앞에 붙지 않는 경우\n",
        "data_part_preprocessing[data_part_preprocessing['memo'].apply(lambda s: bool(re.search(pattern2, str(s))))]    # 110개"
      ],
      "execution_count": null,
      "outputs": []
    }
  ]
}